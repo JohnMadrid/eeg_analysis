{
 "cells": [
  {
   "cell_type": "markdown",
   "metadata": {},
   "source": [
    "# Trigger files\n",
    "This notebook is intended to create the descriptive, streams information and timestamps as '.csv' files, and trigger files.\n",
    "- Descriptive files contain information about the recordings such as duration, sampling rate, names of streams collected, type, etc.\n",
    "- Stream information files contain all data gathered during recording with respective timestamps (e.g., head and eye tracking, object names)\n",
    "- The trigger files contain information about the time when an image was shown, the tpe  of  ima required for the eeg data analysis."
   ]
  },
  {
   "cell_type": "code",
   "execution_count": 169,
   "metadata": {
    "collapsed": true
   },
   "outputs": [],
   "source": [
    "import copy\n",
    "import datetime\n",
    "import itertools\n",
    "import os\n",
    "\n",
    "import matplotlib.pyplot as plt\n",
    "import numpy as np\n",
    "from IPython.display import display\n",
    "from matplotlib.ticker import FormatStrFormatter\n",
    "\n",
    "import pandas as pd\n",
    "import pyxdf\n",
    "import seaborn as sns\n",
    "from scipy.signal import find_peaks\n",
    "from operator import itemgetter\n",
    "from tqdm.notebook import tqdm"
   ]
  },
  {
   "cell_type": "code",
   "execution_count": 170,
   "metadata": {},
   "outputs": [
    {
     "name": "stdout",
     "output_type": "stream",
     "text": [
      "Included:\n"
     ]
    },
    {
     "data": {
      "text/plain": "{1: {'file': '01_room1_pilot1.xdf', 'created': '14.10.2022 21:32'},\n 2: {'file': '39_room1_251022.xdf', 'created': '25.10.2022 16:40'},\n 3: {'file': '40_room1_261022.xdf', 'created': '26.10.2022 16:54'}}"
     },
     "metadata": {},
     "output_type": "display_data"
    }
   ],
   "source": [
    "# path to data stored\n",
    "r_path = \"data\"\n",
    "# path to store trigger data\n",
    "t_path = r_path + '/triggers'\n",
    "# path to store eye-tracking data\n",
    "e_path = r_path + '/eye_tracking'\n",
    "\n",
    "files = os.listdir(r_path)  # get all files from the folder \"data\"\n",
    "files.sort()  # sort them alphabetically\n",
    "recordings = {}\n",
    "file_names = []\n",
    "for i, file in enumerate(files):  # store and display all files\n",
    "    if file.endswith('.xdf'):\n",
    "        file_names.append(file)\n",
    "        created = os.path.getmtime(f\"data/{file}\")  # creation timestamp\n",
    "        created = datetime.datetime.fromtimestamp(created)  # translate as datetime\n",
    "        created = created.strftime(\"%d.%m.%Y %H:%M\")  # arrange it\n",
    "        recordings[i] = {\"file\": file, \"created\": created}\n",
    "# print(file_names)\n",
    "files = [f.split(\".\")[0] for f in files]\n",
    "print(\"Included:\")\n",
    "display(recordings)"
   ]
  },
  {
   "cell_type": "markdown",
   "metadata": {},
   "source": [
    "## 1. Load data"
   ]
  },
  {
   "cell_type": "code",
   "execution_count": 179,
   "metadata": {},
   "outputs": [],
   "source": [
    "# check streams for recording 0\n",
    "file_to_use = file_names[1]\n",
    "streams, _ = pyxdf.load_xdf(f\"data/{file_to_use}\")"
   ]
  },
  {
   "cell_type": "code",
   "execution_count": 180,
   "metadata": {},
   "outputs": [
    {
     "data": {
      "text/plain": "{'ImagesOrder': 0,\n 'ValidationError': 1,\n 'HeadTracking': 2,\n 'openvibeSignal': 3,\n 'EyeTrackingLocal': 4,\n 'EyeTrackingWorld': 5,\n 'HitObjectPositions': 6,\n 'ImageInfo': 7,\n 'Visual': 8,\n 'HitObjectNames': 9,\n 'HitPositionOnObjects': 10}"
     },
     "execution_count": 180,
     "metadata": {},
     "output_type": "execute_result"
    }
   ],
   "source": [
    "# stream channel names in recording 0\n",
    "s_channels = {streams[i][\"info\"][\"name\"][0]: i for i in range(len(streams))}\n",
    "s_channels"
   ]
  },
  {
   "cell_type": "code",
   "execution_count": 147,
   "outputs": [
    {
     "data": {
      "text/plain": "['181523.6270941']"
     },
     "execution_count": 147,
     "metadata": {},
     "output_type": "execute_result"
    }
   ],
   "source": [
    "streams[4]['footer']['info']['first_timestamp']"
   ],
   "metadata": {
    "collapsed": false
   }
  },
  {
   "cell_type": "code",
   "execution_count": 188,
   "outputs": [
    {
     "name": "stdout",
     "output_type": "stream",
     "text": [
      "['fb70e791-699d-4b1a-8a3f-59e6c10c736b']\n",
      "['fb70e791-699d-4b1a-8a3f-59e6c10c736b']\n",
      "['fb70e791-699d-4b1a-8a3f-59e6c10c736b']\n",
      "['fb70e791-699d-4b1a-8a3f-59e6c10c736b']\n",
      "['(0x7bc2b1a8, 0xf2c8e25b)']\n",
      "['fb70e791-699d-4b1a-8a3f-59e6c10c736b']\n",
      "['fb70e791-699d-4b1a-8a3f-59e6c10c736b']\n",
      "['(0x9bb8cbee, 0xc755da37)']\n",
      "['fb70e791-699d-4b1a-8a3f-59e6c10c736b']\n",
      "['fb70e791-699d-4b1a-8a3f-59e6c10c736b']\n",
      "['fb70e791-699d-4b1a-8a3f-59e6c10c736b']\n",
      "['fb70e791-699d-4b1a-8a3f-59e6c10c736b']\n"
     ]
    }
   ],
   "source": [
    "for i in streams:\n",
    "    print(i['info']['source_id'])\n"
   ],
   "metadata": {
    "collapsed": false
   }
  },
  {
   "cell_type": "code",
   "execution_count": 112,
   "outputs": [
    {
     "data": {
      "text/plain": "111180"
     },
     "execution_count": 112,
     "metadata": {},
     "output_type": "execute_result"
    }
   ],
   "source": [
    "len(streams[2]['time_stamps'])"
   ],
   "metadata": {
    "collapsed": false
   }
  },
  {
   "cell_type": "code",
   "execution_count": 237,
   "outputs": [],
   "source": [
    "def describe_recordings(streams, file_name=''):\n",
    "    ch_keys = [\"name\",\"type\", \"channel_count\",\"channel_format\",\"nominal_srate\",\"desc\",\"effective_srate\",\"hostname\", \"created_at\"]\n",
    "    s_channels = {streams[i][\"info\"][\"name\"][0]: i for i in range(len(streams))}\n",
    "\n",
    "    for i, ch_name in enumerate(s_channels):\n",
    "        if ch_name in 'openvibeSignal':\n",
    "            # save uid and append to csv\n",
    "            uid = streams[i]['info']['uid'][0]\n",
    "            # calculate the recording duration based on first and last time_stamps\n",
    "            duration = (streams[i]['time_stamps'][-1]- streams[i]['time_stamps'][0])/60\n",
    "        if ch_name in 'Visual':\n",
    "            # calculate the duration for the 1st unity half block\n",
    "            block_1_duration  = (streams[i]['time_stamps'][30000] - streams[i]['time_stamps'][0])/60\n",
    "            # Unity sampling rate (fps) for 1rst half block\n",
    "            fps = 1 / (block_1_duration * 60 / 30000)\n",
    "\n",
    "    df = pd.DataFrame(columns=np.concatenate([['uid','file_name','duration (min)','unity_fps','stream_id'], ch_keys]))\n",
    "    id_o = []\n",
    "    for id, stream in enumerate(streams):\n",
    "        id_o.append(id)\n",
    "        items = itemgetter(*ch_keys)(dict(stream['info']))\n",
    "        items = [(', '.join(list(item[0].keys())) if 'desc' in ch_keys[i] else (\n",
    "                  item[0] if isinstance(item, list) else item)) for i, item in enumerate(items)]\n",
    "        df = df.append(pd.Series(items, index=ch_keys), ignore_index=True)\n",
    "\n",
    "    df['uid'] = np.resize(uid,len(streams))\n",
    "    df['file_name'] = np.resize(file_name,len(streams))\n",
    "    df['duration (min)'] = np.resize(duration,len(streams))\n",
    "    df['unity_fps'] = np.resize(fps,len(streams))\n",
    "    df['stream_id'] = id_o\n",
    "\n",
    "    return df"
   ],
   "metadata": {
    "collapsed": false
   }
  },
  {
   "cell_type": "code",
   "execution_count": 238,
   "outputs": [
    {
     "data": {
      "text/plain": "                                     uid            file_name  duration (min)  \\\n0   e0e948a0-f7fb-4f02-af14-e8e4c40a0e2b  39_room1_251022.xdf       22.374463   \n1   e0e948a0-f7fb-4f02-af14-e8e4c40a0e2b  39_room1_251022.xdf       22.374463   \n2   e0e948a0-f7fb-4f02-af14-e8e4c40a0e2b  39_room1_251022.xdf       22.374463   \n3   e0e948a0-f7fb-4f02-af14-e8e4c40a0e2b  39_room1_251022.xdf       22.374463   \n4   e0e948a0-f7fb-4f02-af14-e8e4c40a0e2b  39_room1_251022.xdf       22.374463   \n5   e0e948a0-f7fb-4f02-af14-e8e4c40a0e2b  39_room1_251022.xdf       22.374463   \n6   e0e948a0-f7fb-4f02-af14-e8e4c40a0e2b  39_room1_251022.xdf       22.374463   \n7   e0e948a0-f7fb-4f02-af14-e8e4c40a0e2b  39_room1_251022.xdf       22.374463   \n8   e0e948a0-f7fb-4f02-af14-e8e4c40a0e2b  39_room1_251022.xdf       22.374463   \n9   e0e948a0-f7fb-4f02-af14-e8e4c40a0e2b  39_room1_251022.xdf       22.374463   \n10  e0e948a0-f7fb-4f02-af14-e8e4c40a0e2b  39_room1_251022.xdf       22.374463   \n11  e0e948a0-f7fb-4f02-af14-e8e4c40a0e2b  39_room1_251022.xdf       22.374463   \n\n    unity_fps  stream_id                  name     type channel_count  \\\n0   89.998318          0        HitObjectNames  Markers             1   \n1   89.998318          1           ImagesOrder  Markers             2   \n2   89.998318          2                Visual  Markers             3   \n3   89.998318          3             ImageInfo  Markers             2   \n4   89.998318          4        openvibeSignal   signal            72   \n5   89.998318          5          HeadTracking  Markers             6   \n6   89.998318          6      EyeTrackingWorld  Markers            10   \n7   89.998318          7       openvibeMarkers  Markers             1   \n8   89.998318          8      EyeTrackingLocal  Markers             6   \n9   89.998318          9  HitPositionOnObjects  Markers             3   \n10  89.998318         10       ValidationError  Markers             3   \n11  89.998318         11    HitObjectPositions  Markers             3   \n\n   channel_format      nominal_srate  \\\n0          string  0.000000000000000   \n1          string  0.000000000000000   \n2         float32  0.000000000000000   \n3          string  0.000000000000000   \n4         float32  1024.000000000000   \n5         float32  0.000000000000000   \n6         float32  0.000000000000000   \n7           int32  0.000000000000000   \n8         float32  0.000000000000000   \n9         float32  0.000000000000000   \n10        float32  0.000000000000000   \n11        float32  0.000000000000000   \n\n                                                 desc effective_srate  \\\n0                                                 HON               0   \n1         arrayOfImages, orderOfImageIndexesToDisplay               0   \n2                    cFrame, displayStatus, worldTime               0   \n3                              blockNumber, imageName               0   \n4                                            channels     1023.999998   \n5   HToriginX, HToriginY, HToriginZ, HTdirectionX,...               0   \n6   ETWTime, ETWoriginX, ETWoriginY, ETWoriginZ, E...               0   \n7                                            channels               0   \n8   ETLoriginX, ETLoriginY, ETLoriginZ, ETLdirecti...               0   \n9                                 HPOOX, HPOOY, HPOOZ               0   \n10                                   ValX, ValY, ValZ               0   \n11                                   HOPX, HOPY, HOPZ               0   \n\n   hostname         created_at  \n0      ml03  634.4911906000000  \n1      ml03  634.4975368000000  \n2      ml03  634.4950234000000  \n3      ml03  634.4963238000000  \n4   wd-left  104.2210639000000  \n5      ml03  634.4899724000001  \n6      ml03  634.4875234000000  \n7   wd-left  104.2298864000000  \n8      ml03  634.4887757000000  \n9      ml03  634.4937609999999  \n10     ml03  634.4861528000000  \n11     ml03  634.4923908000000  ",
      "text/html": "<div>\n<style scoped>\n    .dataframe tbody tr th:only-of-type {\n        vertical-align: middle;\n    }\n\n    .dataframe tbody tr th {\n        vertical-align: top;\n    }\n\n    .dataframe thead th {\n        text-align: right;\n    }\n</style>\n<table border=\"1\" class=\"dataframe\">\n  <thead>\n    <tr style=\"text-align: right;\">\n      <th></th>\n      <th>uid</th>\n      <th>file_name</th>\n      <th>duration (min)</th>\n      <th>unity_fps</th>\n      <th>stream_id</th>\n      <th>name</th>\n      <th>type</th>\n      <th>channel_count</th>\n      <th>channel_format</th>\n      <th>nominal_srate</th>\n      <th>desc</th>\n      <th>effective_srate</th>\n      <th>hostname</th>\n      <th>created_at</th>\n    </tr>\n  </thead>\n  <tbody>\n    <tr>\n      <th>0</th>\n      <td>e0e948a0-f7fb-4f02-af14-e8e4c40a0e2b</td>\n      <td>39_room1_251022.xdf</td>\n      <td>22.374463</td>\n      <td>89.998318</td>\n      <td>0</td>\n      <td>HitObjectNames</td>\n      <td>Markers</td>\n      <td>1</td>\n      <td>string</td>\n      <td>0.000000000000000</td>\n      <td>HON</td>\n      <td>0</td>\n      <td>ml03</td>\n      <td>634.4911906000000</td>\n    </tr>\n    <tr>\n      <th>1</th>\n      <td>e0e948a0-f7fb-4f02-af14-e8e4c40a0e2b</td>\n      <td>39_room1_251022.xdf</td>\n      <td>22.374463</td>\n      <td>89.998318</td>\n      <td>1</td>\n      <td>ImagesOrder</td>\n      <td>Markers</td>\n      <td>2</td>\n      <td>string</td>\n      <td>0.000000000000000</td>\n      <td>arrayOfImages, orderOfImageIndexesToDisplay</td>\n      <td>0</td>\n      <td>ml03</td>\n      <td>634.4975368000000</td>\n    </tr>\n    <tr>\n      <th>2</th>\n      <td>e0e948a0-f7fb-4f02-af14-e8e4c40a0e2b</td>\n      <td>39_room1_251022.xdf</td>\n      <td>22.374463</td>\n      <td>89.998318</td>\n      <td>2</td>\n      <td>Visual</td>\n      <td>Markers</td>\n      <td>3</td>\n      <td>float32</td>\n      <td>0.000000000000000</td>\n      <td>cFrame, displayStatus, worldTime</td>\n      <td>0</td>\n      <td>ml03</td>\n      <td>634.4950234000000</td>\n    </tr>\n    <tr>\n      <th>3</th>\n      <td>e0e948a0-f7fb-4f02-af14-e8e4c40a0e2b</td>\n      <td>39_room1_251022.xdf</td>\n      <td>22.374463</td>\n      <td>89.998318</td>\n      <td>3</td>\n      <td>ImageInfo</td>\n      <td>Markers</td>\n      <td>2</td>\n      <td>string</td>\n      <td>0.000000000000000</td>\n      <td>blockNumber, imageName</td>\n      <td>0</td>\n      <td>ml03</td>\n      <td>634.4963238000000</td>\n    </tr>\n    <tr>\n      <th>4</th>\n      <td>e0e948a0-f7fb-4f02-af14-e8e4c40a0e2b</td>\n      <td>39_room1_251022.xdf</td>\n      <td>22.374463</td>\n      <td>89.998318</td>\n      <td>4</td>\n      <td>openvibeSignal</td>\n      <td>signal</td>\n      <td>72</td>\n      <td>float32</td>\n      <td>1024.000000000000</td>\n      <td>channels</td>\n      <td>1023.999998</td>\n      <td>wd-left</td>\n      <td>104.2210639000000</td>\n    </tr>\n    <tr>\n      <th>5</th>\n      <td>e0e948a0-f7fb-4f02-af14-e8e4c40a0e2b</td>\n      <td>39_room1_251022.xdf</td>\n      <td>22.374463</td>\n      <td>89.998318</td>\n      <td>5</td>\n      <td>HeadTracking</td>\n      <td>Markers</td>\n      <td>6</td>\n      <td>float32</td>\n      <td>0.000000000000000</td>\n      <td>HToriginX, HToriginY, HToriginZ, HTdirectionX,...</td>\n      <td>0</td>\n      <td>ml03</td>\n      <td>634.4899724000001</td>\n    </tr>\n    <tr>\n      <th>6</th>\n      <td>e0e948a0-f7fb-4f02-af14-e8e4c40a0e2b</td>\n      <td>39_room1_251022.xdf</td>\n      <td>22.374463</td>\n      <td>89.998318</td>\n      <td>6</td>\n      <td>EyeTrackingWorld</td>\n      <td>Markers</td>\n      <td>10</td>\n      <td>float32</td>\n      <td>0.000000000000000</td>\n      <td>ETWTime, ETWoriginX, ETWoriginY, ETWoriginZ, E...</td>\n      <td>0</td>\n      <td>ml03</td>\n      <td>634.4875234000000</td>\n    </tr>\n    <tr>\n      <th>7</th>\n      <td>e0e948a0-f7fb-4f02-af14-e8e4c40a0e2b</td>\n      <td>39_room1_251022.xdf</td>\n      <td>22.374463</td>\n      <td>89.998318</td>\n      <td>7</td>\n      <td>openvibeMarkers</td>\n      <td>Markers</td>\n      <td>1</td>\n      <td>int32</td>\n      <td>0.000000000000000</td>\n      <td>channels</td>\n      <td>0</td>\n      <td>wd-left</td>\n      <td>104.2298864000000</td>\n    </tr>\n    <tr>\n      <th>8</th>\n      <td>e0e948a0-f7fb-4f02-af14-e8e4c40a0e2b</td>\n      <td>39_room1_251022.xdf</td>\n      <td>22.374463</td>\n      <td>89.998318</td>\n      <td>8</td>\n      <td>EyeTrackingLocal</td>\n      <td>Markers</td>\n      <td>6</td>\n      <td>float32</td>\n      <td>0.000000000000000</td>\n      <td>ETLoriginX, ETLoriginY, ETLoriginZ, ETLdirecti...</td>\n      <td>0</td>\n      <td>ml03</td>\n      <td>634.4887757000000</td>\n    </tr>\n    <tr>\n      <th>9</th>\n      <td>e0e948a0-f7fb-4f02-af14-e8e4c40a0e2b</td>\n      <td>39_room1_251022.xdf</td>\n      <td>22.374463</td>\n      <td>89.998318</td>\n      <td>9</td>\n      <td>HitPositionOnObjects</td>\n      <td>Markers</td>\n      <td>3</td>\n      <td>float32</td>\n      <td>0.000000000000000</td>\n      <td>HPOOX, HPOOY, HPOOZ</td>\n      <td>0</td>\n      <td>ml03</td>\n      <td>634.4937609999999</td>\n    </tr>\n    <tr>\n      <th>10</th>\n      <td>e0e948a0-f7fb-4f02-af14-e8e4c40a0e2b</td>\n      <td>39_room1_251022.xdf</td>\n      <td>22.374463</td>\n      <td>89.998318</td>\n      <td>10</td>\n      <td>ValidationError</td>\n      <td>Markers</td>\n      <td>3</td>\n      <td>float32</td>\n      <td>0.000000000000000</td>\n      <td>ValX, ValY, ValZ</td>\n      <td>0</td>\n      <td>ml03</td>\n      <td>634.4861528000000</td>\n    </tr>\n    <tr>\n      <th>11</th>\n      <td>e0e948a0-f7fb-4f02-af14-e8e4c40a0e2b</td>\n      <td>39_room1_251022.xdf</td>\n      <td>22.374463</td>\n      <td>89.998318</td>\n      <td>11</td>\n      <td>HitObjectPositions</td>\n      <td>Markers</td>\n      <td>3</td>\n      <td>float32</td>\n      <td>0.000000000000000</td>\n      <td>HOPX, HOPY, HOPZ</td>\n      <td>0</td>\n      <td>ml03</td>\n      <td>634.4923908000000</td>\n    </tr>\n  </tbody>\n</table>\n</div>"
     },
     "execution_count": 238,
     "metadata": {},
     "output_type": "execute_result"
    }
   ],
   "source": [
    "desc_streams = describe_recordings(streams, file_name=file_to_use)\n",
    "desc_streams"
   ],
   "metadata": {
    "collapsed": false
   }
  },
  {
   "cell_type": "code",
   "execution_count": 90,
   "outputs": [
    {
     "data": {
      "text/plain": "22.374462932040434"
     },
     "execution_count": 90,
     "metadata": {},
     "output_type": "execute_result"
    }
   ],
   "source": [
    "# 3730.732377192173\n",
    "# 3730.73246817\n",
    "ref_ts = (streams[4]['time_stamps'][-1] - streams[4]['time_stamps'][0]) / 60\n",
    "ref_ts\n",
    "# eeg_ts1 = float(ref_ts) -1\n",
    "# eeg_ts1"
   ],
   "metadata": {
    "collapsed": false
   }
  },
  {
   "cell_type": "markdown",
   "metadata": {},
   "source": [
    "## 2. Create dataframe from streams"
   ]
  },
  {
   "cell_type": "code",
   "execution_count": 221,
   "metadata": {},
   "outputs": [],
   "source": [
    "def get_streams_data(streams, streams_keep=['ImageInfo','Visual'], time_ref_stream='openvibeSignal'):\n",
    "    \"\"\"\n",
    "    :param streams: streams after loading from .xdf file\n",
    "    :param streams_keep: str. of the stream names to keep\n",
    "    :param time_ref_stream: str. name of the eeg  signal used used for time correction and uid creation\n",
    "    :return: df containing the time_stamps and stream_data as columns for each stream to keep\n",
    "    \"\"\"\n",
    "    s_channels = {streams[i][\"info\"][\"name\"][0]: i for i in range(len(streams))}\n",
    "    eeg_u = s_channels[time_ref_stream]\n",
    "    eeg_first_ts = float(streams[eeg_u]['time_stamps'][0])\n",
    "    eeg_all_ts = streams[eeg_u]['time_stamps'] # all eeg timestamps\n",
    "    uid = streams[eeg_u]['info']['uid'][0]\n",
    "\n",
    "    data = pd.DataFrame()\n",
    "    for i, ch_name in enumerate(streams_keep):\n",
    "        # get all current streams with their positions on the recording\n",
    "        # example: {'ImagesOrder': 0, 'ValidationError': 1, 'HeadTracking': 2}\n",
    "        s_channels = {streams[i][\"info\"][\"name\"][0]: i for i in range(len(streams))}\n",
    "        u = s_channels[ch_name]\n",
    "        # save the recording UID and append to df\n",
    "        data['uid'] = np.resize(uid,len(data))\n",
    "\n",
    "        # check the type and length of data arrays and get only 1 value of the array\n",
    "        stream_data = streams[u]['time_series']\n",
    "        # double check keys on each stream to make sure they are all appended to df\n",
    "        # print(f\"Stream {ch_name} keys: {streams[u]['info']['desc'][0].keys()}\")\n",
    "        # check stram_data is of kind np.array()\n",
    "        if isinstance(stream_data, (list,pd.core.series.Series,np.ndarray)):\n",
    "            # access all stream names in dictionary's 'info' description\n",
    "            for i, key in enumerate(streams[u]['info']['desc'][0].keys()):\n",
    "                # save each dict key as column to df\n",
    "                stream_data = pd.DataFrame(streams[u]['time_series'])[i]\n",
    "                data[f\"{key}_{ch_name}\"] = stream_data\n",
    "\n",
    "\n",
    "        # get timestamps and attach them as column to df\n",
    "        time_stamps =  streams[u]['time_stamps']\n",
    "        data = pd.concat([data, pd.DataFrame(time_stamps, columns=[f\"time_stamps_{ch_name}\"])], axis=1)\n",
    "        # save timestamps after normalising them to zero\n",
    "        data[f\"corrected_tstamps_{ch_name}\"] = data[f\"time_stamps_{ch_name}\"] - eeg_first_ts\n",
    "\n",
    "    return data"
   ]
  },
  {
   "cell_type": "code",
   "execution_count": 222,
   "metadata": {},
   "outputs": [
    {
     "data": {
      "text/plain": "                                         uid blockNumber_ImageInfo  \\\n0       e0e948a0-f7fb-4f02-af14-e8e4c40a0e2b                     0   \n1       e0e948a0-f7fb-4f02-af14-e8e4c40a0e2b                     0   \n2       e0e948a0-f7fb-4f02-af14-e8e4c40a0e2b                     0   \n3       e0e948a0-f7fb-4f02-af14-e8e4c40a0e2b                     0   \n4       e0e948a0-f7fb-4f02-af14-e8e4c40a0e2b                     0   \n...                                      ...                   ...   \n111175  e0e948a0-f7fb-4f02-af14-e8e4c40a0e2b                     1   \n111176  e0e948a0-f7fb-4f02-af14-e8e4c40a0e2b                     1   \n111177  e0e948a0-f7fb-4f02-af14-e8e4c40a0e2b                     1   \n111178  e0e948a0-f7fb-4f02-af14-e8e4c40a0e2b                     1   \n111179  e0e948a0-f7fb-4f02-af14-e8e4c40a0e2b                     1   \n\n                                      imageName_ImageInfo  \\\n0                                              grayCanvas   \n1                                              grayCanvas   \n2                                              grayCanvas   \n3                                              grayCanvas   \n4                                              grayCanvas   \n...                                                   ...   \n111175  img.1600x1000.date.2022-10-07_17-31-45.hitname...   \n111176  img.1600x1000.date.2022-10-07_17-31-45.hitname...   \n111177  img.1600x1000.date.2022-10-07_17-31-45.hitname...   \n111178  img.1600x1000.date.2022-10-07_17-31-45.hitname...   \n111179  img.1600x1000.date.2022-10-07_17-31-45.hitname...   \n\n        time_stamps_ImageInfo  corrected_tstamps_ImageInfo  cFrame_Visual  \\\n0                 3730.998672                     0.266204         3841.0   \n1                 3731.009716                     0.277248         3842.0   \n2                 3731.020642                     0.288174         3843.0   \n3                 3731.031608                     0.299140         3844.0   \n4                 3731.042741                     0.310273         3845.0   \n...                       ...                          ...            ...   \n111175            5066.135132                  1335.402663       114850.0   \n111176            5066.146061                  1335.413592       114851.0   \n111177            5066.157166                  1335.424698       114852.0   \n111178            5066.168250                  1335.435782       114853.0   \n111179            5066.179362                  1335.446894       114854.0   \n\n        displayStatus_Visual  worldTime_Visual  time_stamps_Visual  \\\n0                        2.0         91.064651         3730.998659   \n1                        2.0         91.075706         3731.009707   \n2                        2.0         91.086632         3731.020630   \n3                        2.0         91.097603         3731.031599   \n4                        2.0         91.108734         3731.042731   \n...                      ...               ...                 ...   \n111175                   0.0       1426.197998         5066.135121   \n111176                   0.0       1426.208862         5066.146050   \n111177                   0.0       1426.219971         5066.157156   \n111178                   0.0       1426.231079         5066.168240   \n111179                   0.0       1426.242188         5066.179353   \n\n        corrected_tstamps_Visual  \n0                       0.266191  \n1                       0.277238  \n2                       0.288162  \n3                       0.299130  \n4                       0.310263  \n...                          ...  \n111175               1335.402653  \n111176               1335.413581  \n111177               1335.424688  \n111178               1335.435772  \n111179               1335.446884  \n\n[111180 rows x 10 columns]",
      "text/html": "<div>\n<style scoped>\n    .dataframe tbody tr th:only-of-type {\n        vertical-align: middle;\n    }\n\n    .dataframe tbody tr th {\n        vertical-align: top;\n    }\n\n    .dataframe thead th {\n        text-align: right;\n    }\n</style>\n<table border=\"1\" class=\"dataframe\">\n  <thead>\n    <tr style=\"text-align: right;\">\n      <th></th>\n      <th>uid</th>\n      <th>blockNumber_ImageInfo</th>\n      <th>imageName_ImageInfo</th>\n      <th>time_stamps_ImageInfo</th>\n      <th>corrected_tstamps_ImageInfo</th>\n      <th>cFrame_Visual</th>\n      <th>displayStatus_Visual</th>\n      <th>worldTime_Visual</th>\n      <th>time_stamps_Visual</th>\n      <th>corrected_tstamps_Visual</th>\n    </tr>\n  </thead>\n  <tbody>\n    <tr>\n      <th>0</th>\n      <td>e0e948a0-f7fb-4f02-af14-e8e4c40a0e2b</td>\n      <td>0</td>\n      <td>grayCanvas</td>\n      <td>3730.998672</td>\n      <td>0.266204</td>\n      <td>3841.0</td>\n      <td>2.0</td>\n      <td>91.064651</td>\n      <td>3730.998659</td>\n      <td>0.266191</td>\n    </tr>\n    <tr>\n      <th>1</th>\n      <td>e0e948a0-f7fb-4f02-af14-e8e4c40a0e2b</td>\n      <td>0</td>\n      <td>grayCanvas</td>\n      <td>3731.009716</td>\n      <td>0.277248</td>\n      <td>3842.0</td>\n      <td>2.0</td>\n      <td>91.075706</td>\n      <td>3731.009707</td>\n      <td>0.277238</td>\n    </tr>\n    <tr>\n      <th>2</th>\n      <td>e0e948a0-f7fb-4f02-af14-e8e4c40a0e2b</td>\n      <td>0</td>\n      <td>grayCanvas</td>\n      <td>3731.020642</td>\n      <td>0.288174</td>\n      <td>3843.0</td>\n      <td>2.0</td>\n      <td>91.086632</td>\n      <td>3731.020630</td>\n      <td>0.288162</td>\n    </tr>\n    <tr>\n      <th>3</th>\n      <td>e0e948a0-f7fb-4f02-af14-e8e4c40a0e2b</td>\n      <td>0</td>\n      <td>grayCanvas</td>\n      <td>3731.031608</td>\n      <td>0.299140</td>\n      <td>3844.0</td>\n      <td>2.0</td>\n      <td>91.097603</td>\n      <td>3731.031599</td>\n      <td>0.299130</td>\n    </tr>\n    <tr>\n      <th>4</th>\n      <td>e0e948a0-f7fb-4f02-af14-e8e4c40a0e2b</td>\n      <td>0</td>\n      <td>grayCanvas</td>\n      <td>3731.042741</td>\n      <td>0.310273</td>\n      <td>3845.0</td>\n      <td>2.0</td>\n      <td>91.108734</td>\n      <td>3731.042731</td>\n      <td>0.310263</td>\n    </tr>\n    <tr>\n      <th>...</th>\n      <td>...</td>\n      <td>...</td>\n      <td>...</td>\n      <td>...</td>\n      <td>...</td>\n      <td>...</td>\n      <td>...</td>\n      <td>...</td>\n      <td>...</td>\n      <td>...</td>\n    </tr>\n    <tr>\n      <th>111175</th>\n      <td>e0e948a0-f7fb-4f02-af14-e8e4c40a0e2b</td>\n      <td>1</td>\n      <td>img.1600x1000.date.2022-10-07_17-31-45.hitname...</td>\n      <td>5066.135132</td>\n      <td>1335.402663</td>\n      <td>114850.0</td>\n      <td>0.0</td>\n      <td>1426.197998</td>\n      <td>5066.135121</td>\n      <td>1335.402653</td>\n    </tr>\n    <tr>\n      <th>111176</th>\n      <td>e0e948a0-f7fb-4f02-af14-e8e4c40a0e2b</td>\n      <td>1</td>\n      <td>img.1600x1000.date.2022-10-07_17-31-45.hitname...</td>\n      <td>5066.146061</td>\n      <td>1335.413592</td>\n      <td>114851.0</td>\n      <td>0.0</td>\n      <td>1426.208862</td>\n      <td>5066.146050</td>\n      <td>1335.413581</td>\n    </tr>\n    <tr>\n      <th>111177</th>\n      <td>e0e948a0-f7fb-4f02-af14-e8e4c40a0e2b</td>\n      <td>1</td>\n      <td>img.1600x1000.date.2022-10-07_17-31-45.hitname...</td>\n      <td>5066.157166</td>\n      <td>1335.424698</td>\n      <td>114852.0</td>\n      <td>0.0</td>\n      <td>1426.219971</td>\n      <td>5066.157156</td>\n      <td>1335.424688</td>\n    </tr>\n    <tr>\n      <th>111178</th>\n      <td>e0e948a0-f7fb-4f02-af14-e8e4c40a0e2b</td>\n      <td>1</td>\n      <td>img.1600x1000.date.2022-10-07_17-31-45.hitname...</td>\n      <td>5066.168250</td>\n      <td>1335.435782</td>\n      <td>114853.0</td>\n      <td>0.0</td>\n      <td>1426.231079</td>\n      <td>5066.168240</td>\n      <td>1335.435772</td>\n    </tr>\n    <tr>\n      <th>111179</th>\n      <td>e0e948a0-f7fb-4f02-af14-e8e4c40a0e2b</td>\n      <td>1</td>\n      <td>img.1600x1000.date.2022-10-07_17-31-45.hitname...</td>\n      <td>5066.179362</td>\n      <td>1335.446894</td>\n      <td>114854.0</td>\n      <td>0.0</td>\n      <td>1426.242188</td>\n      <td>5066.179353</td>\n      <td>1335.446884</td>\n    </tr>\n  </tbody>\n</table>\n<p>111180 rows × 10 columns</p>\n</div>"
     },
     "execution_count": 222,
     "metadata": {},
     "output_type": "execute_result"
    }
   ],
   "source": [
    "df = get_streams_data(streams, streams_keep=['ImageInfo','Visual'], time_ref_stream='openvibeSignal')\n",
    "df"
   ]
  },
  {
   "cell_type": "code",
   "execution_count": 219,
   "metadata": {},
   "outputs": [
    {
     "data": {
      "text/plain": "       time_stamps_ImageInfo  corrected_tstamps_ImageInfo  cFrame_Visual  \\\ncount          111180.000000                111180.000000  111180.000000   \nmean             4393.360486                   662.628018   59361.429688   \nstd               394.274395                   394.274395   32028.070312   \nmin              3730.998672                     0.266204    3841.000000   \n25%              4039.835421                   309.102953   31648.750000   \n50%              4381.357276                   650.624808   59382.500000   \n75%              4757.342356                  1026.609887   87046.250000   \nmax              5066.179362                  1335.446894  114854.000000   \n\n       displayStatus_Visual  worldTime_Visual  time_stamps_Visual  \\\ncount         111180.000000     111180.000000       111180.000000   \nmean               1.440394        753.423584         4393.360477   \nstd                1.333862        394.272064          394.274395   \nmin                0.000000         91.064651         3730.998659   \n25%                0.000000        399.900681         4039.835412   \n50%                1.000000        741.421722         4381.357267   \n75%                2.000000       1117.405884         4757.342347   \nmax                5.000000       1426.242188         5066.179353   \n\n       corrected_tstamps_Visual  \ncount             111180.000000  \nmean                 662.628008  \nstd                  394.274395  \nmin                    0.266191  \n25%                  309.102943  \n50%                  650.624799  \n75%                 1026.609879  \nmax                 1335.446884  ",
      "text/html": "<div>\n<style scoped>\n    .dataframe tbody tr th:only-of-type {\n        vertical-align: middle;\n    }\n\n    .dataframe tbody tr th {\n        vertical-align: top;\n    }\n\n    .dataframe thead th {\n        text-align: right;\n    }\n</style>\n<table border=\"1\" class=\"dataframe\">\n  <thead>\n    <tr style=\"text-align: right;\">\n      <th></th>\n      <th>time_stamps_ImageInfo</th>\n      <th>corrected_tstamps_ImageInfo</th>\n      <th>cFrame_Visual</th>\n      <th>displayStatus_Visual</th>\n      <th>worldTime_Visual</th>\n      <th>time_stamps_Visual</th>\n      <th>corrected_tstamps_Visual</th>\n    </tr>\n  </thead>\n  <tbody>\n    <tr>\n      <th>count</th>\n      <td>111180.000000</td>\n      <td>111180.000000</td>\n      <td>111180.000000</td>\n      <td>111180.000000</td>\n      <td>111180.000000</td>\n      <td>111180.000000</td>\n      <td>111180.000000</td>\n    </tr>\n    <tr>\n      <th>mean</th>\n      <td>4393.360486</td>\n      <td>662.628018</td>\n      <td>59361.429688</td>\n      <td>1.440394</td>\n      <td>753.423584</td>\n      <td>4393.360477</td>\n      <td>662.628008</td>\n    </tr>\n    <tr>\n      <th>std</th>\n      <td>394.274395</td>\n      <td>394.274395</td>\n      <td>32028.070312</td>\n      <td>1.333862</td>\n      <td>394.272064</td>\n      <td>394.274395</td>\n      <td>394.274395</td>\n    </tr>\n    <tr>\n      <th>min</th>\n      <td>3730.998672</td>\n      <td>0.266204</td>\n      <td>3841.000000</td>\n      <td>0.000000</td>\n      <td>91.064651</td>\n      <td>3730.998659</td>\n      <td>0.266191</td>\n    </tr>\n    <tr>\n      <th>25%</th>\n      <td>4039.835421</td>\n      <td>309.102953</td>\n      <td>31648.750000</td>\n      <td>0.000000</td>\n      <td>399.900681</td>\n      <td>4039.835412</td>\n      <td>309.102943</td>\n    </tr>\n    <tr>\n      <th>50%</th>\n      <td>4381.357276</td>\n      <td>650.624808</td>\n      <td>59382.500000</td>\n      <td>1.000000</td>\n      <td>741.421722</td>\n      <td>4381.357267</td>\n      <td>650.624799</td>\n    </tr>\n    <tr>\n      <th>75%</th>\n      <td>4757.342356</td>\n      <td>1026.609887</td>\n      <td>87046.250000</td>\n      <td>2.000000</td>\n      <td>1117.405884</td>\n      <td>4757.342347</td>\n      <td>1026.609879</td>\n    </tr>\n    <tr>\n      <th>max</th>\n      <td>5066.179362</td>\n      <td>1335.446894</td>\n      <td>114854.000000</td>\n      <td>5.000000</td>\n      <td>1426.242188</td>\n      <td>5066.179353</td>\n      <td>1335.446884</td>\n    </tr>\n  </tbody>\n</table>\n</div>"
     },
     "execution_count": 219,
     "metadata": {},
     "output_type": "execute_result"
    }
   ],
   "source": [
    "# quick statistics to know if all rows have same length\n",
    "df.describe()\n",
    "# df['HON_HitObjectNames'].isnull().sum()\n",
    "# df['HON_HitObjectNames'].unique()"
   ]
  },
  {
   "cell_type": "code",
   "execution_count": 223,
   "metadata": {},
   "outputs": [
    {
     "data": {
      "text/plain": "                                         uid HON_HitObjectNames  \\\n0       e0e948a0-f7fb-4f02-af14-e8e4c40a0e2b   FixationCollider   \n1       e0e948a0-f7fb-4f02-af14-e8e4c40a0e2b   FixationCollider   \n2       e0e948a0-f7fb-4f02-af14-e8e4c40a0e2b   FixationCollider   \n3       e0e948a0-f7fb-4f02-af14-e8e4c40a0e2b   FixationCollider   \n4       e0e948a0-f7fb-4f02-af14-e8e4c40a0e2b   FixationCollider   \n...                                      ...                ...   \n100492  e0e948a0-f7fb-4f02-af14-e8e4c40a0e2b   FixationCollider   \n100493  e0e948a0-f7fb-4f02-af14-e8e4c40a0e2b   FixationCollider   \n100494  e0e948a0-f7fb-4f02-af14-e8e4c40a0e2b   FixationCollider   \n100495  e0e948a0-f7fb-4f02-af14-e8e4c40a0e2b   FixationCollider   \n100496  e0e948a0-f7fb-4f02-af14-e8e4c40a0e2b   FixationCollider   \n\n        time_stamps_HitObjectNames  corrected_tstamps_HitObjectNames  \\\n0                      3730.997349                          0.264881   \n1                      3731.008460                          0.275992   \n2                      3731.019443                          0.286975   \n3                      3731.030531                          0.298062   \n4                      3731.041669                          0.309201   \n...                            ...                               ...   \n100492                 5066.133986                       1335.401517   \n100493                 5066.144915                       1335.412447   \n100494                 5066.156074                       1335.423606   \n100495                 5066.167128                       1335.434660   \n100496                 5066.178326                       1335.445857   \n\n        HPOOX_HitPositionOnObjects  HPOOY_HitPositionOnObjects  \\\n0                         0.025130                    1.446558   \n1                         0.082237                    1.446519   \n2                         0.045631                    1.432317   \n3                         0.034770                    1.427868   \n4                         0.010570                    1.432112   \n...                            ...                         ...   \n100492                   -0.173868                    1.057811   \n100493                   -0.170069                    1.069861   \n100494                   -0.169865                    1.070280   \n100495                   -0.171499                    1.069171   \n100496                   -0.171069                    1.069634   \n\n        HPOOZ_HitPositionOnObjects  time_stamps_HitPositionOnObjects  \\\n0                         9.418699                       3730.997353   \n1                         9.423999                       3731.008465   \n2                         9.416549                       3731.019446   \n3                         9.414793                       3731.030533   \n4                         9.414815                       3731.041672   \n...                            ...                               ...   \n100492                    9.479301                       5066.133989   \n100493                    9.472626                       5066.144917   \n100494                    9.472397                       5066.156075   \n100495                    9.473394                       5066.167129   \n100496                    9.473063                       5066.178326   \n\n        corrected_tstamps_HitPositionOnObjects  HToriginX_HeadTracking  ...  \\\n0                                     0.264885                0.017377  ...   \n1                                     0.275996                0.017391  ...   \n2                                     0.286978                0.017432  ...   \n3                                     0.298065                0.017440  ...   \n4                                     0.309203                0.017486  ...   \n...                                        ...                     ...  ...   \n100492                             1335.401521                0.029180  ...   \n100493                             1335.412449                0.029200  ...   \n100494                             1335.423607                0.029205  ...   \n100495                             1335.434661                0.029212  ...   \n100496                             1335.445858                0.029159  ...   \n\n        time_stamps_EyeTrackingWorld  corrected_tstamps_EyeTrackingWorld  \\\n0                        3730.997272                            0.264803   \n1                        3731.008376                            0.275908   \n2                        3731.019357                            0.286889   \n3                        3731.030461                            0.297993   \n4                        3731.041608                            0.309140   \n...                              ...                                 ...   \n100492                   5066.133909                         1335.401441   \n100493                   5066.144838                         1335.412370   \n100494                   5066.156014                         1335.423545   \n100495                   5066.167067                         1335.434599   \n100496                   5066.178263                         1335.445795   \n\n        ETLoriginX_EyeTrackingLocal  ETLoriginY_EyeTrackingLocal  \\\n0                          0.031408                     0.001798   \n1                          0.031048                     0.001815   \n2                          0.026963                     0.001906   \n3                          0.023141                     0.001992   \n4                          0.016942                     0.002129   \n...                             ...                          ...   \n100492                    -0.000950                     0.003270   \n100493                    -0.000823                     0.003266   \n100494                    -0.000680                     0.003261   \n100495                    -0.000224                     0.003246   \n100496                    -0.000586                     0.003256   \n\n        ETLoriginZ_EyeTrackingLocal  ETLdirectionX_EyeTrackingLocal  \\\n0                         -0.025572                        0.002686   \n1                         -0.025599                        0.008621   \n2                         -0.025647                        0.005142   \n3                         -0.025693                        0.004288   \n4                         -0.025755                        0.002258   \n...                             ...                             ...   \n100492                    -0.027301                        0.137268   \n100493                    -0.027293                        0.137665   \n100494                    -0.027286                        0.137695   \n100495                    -0.027267                        0.137497   \n100496                    -0.027277                        0.137543   \n\n        ETLdirectionY_EyeTrackingLocal  ETLdirectionZ_EyeTrackingLocal  \\\n0                            -0.093506                        0.995605   \n1                            -0.093369                        0.995590   \n2                            -0.094482                        0.995499   \n3                            -0.094803                        0.995483   \n4                            -0.094482                        0.995514   \n...                                ...                             ...   \n100492                       -0.136169                        0.981125   \n100493                       -0.135559                        0.981155   \n100494                       -0.135757                        0.981110   \n100495                       -0.136063                        0.981110   \n100496                       -0.136307                        0.981064   \n\n        time_stamps_EyeTrackingLocal  corrected_tstamps_EyeTrackingLocal  \n0                        3730.998010                            0.265542  \n1                        3731.009143                            0.276674  \n2                        3731.020026                            0.287558  \n3                        3731.031090                            0.298622  \n4                        3731.042199                            0.309731  \n...                              ...                                 ...  \n100492                   5066.134563                         1335.402095  \n100493                   5066.145489                         1335.413020  \n100494                   5066.156599                         1335.424131  \n100495                   5066.167650                         1335.435181  \n100496                   5066.178865                         1335.446397  \n\n[100497 rows x 37 columns]",
      "text/html": "<div>\n<style scoped>\n    .dataframe tbody tr th:only-of-type {\n        vertical-align: middle;\n    }\n\n    .dataframe tbody tr th {\n        vertical-align: top;\n    }\n\n    .dataframe thead th {\n        text-align: right;\n    }\n</style>\n<table border=\"1\" class=\"dataframe\">\n  <thead>\n    <tr style=\"text-align: right;\">\n      <th></th>\n      <th>uid</th>\n      <th>HON_HitObjectNames</th>\n      <th>time_stamps_HitObjectNames</th>\n      <th>corrected_tstamps_HitObjectNames</th>\n      <th>HPOOX_HitPositionOnObjects</th>\n      <th>HPOOY_HitPositionOnObjects</th>\n      <th>HPOOZ_HitPositionOnObjects</th>\n      <th>time_stamps_HitPositionOnObjects</th>\n      <th>corrected_tstamps_HitPositionOnObjects</th>\n      <th>HToriginX_HeadTracking</th>\n      <th>...</th>\n      <th>time_stamps_EyeTrackingWorld</th>\n      <th>corrected_tstamps_EyeTrackingWorld</th>\n      <th>ETLoriginX_EyeTrackingLocal</th>\n      <th>ETLoriginY_EyeTrackingLocal</th>\n      <th>ETLoriginZ_EyeTrackingLocal</th>\n      <th>ETLdirectionX_EyeTrackingLocal</th>\n      <th>ETLdirectionY_EyeTrackingLocal</th>\n      <th>ETLdirectionZ_EyeTrackingLocal</th>\n      <th>time_stamps_EyeTrackingLocal</th>\n      <th>corrected_tstamps_EyeTrackingLocal</th>\n    </tr>\n  </thead>\n  <tbody>\n    <tr>\n      <th>0</th>\n      <td>e0e948a0-f7fb-4f02-af14-e8e4c40a0e2b</td>\n      <td>FixationCollider</td>\n      <td>3730.997349</td>\n      <td>0.264881</td>\n      <td>0.025130</td>\n      <td>1.446558</td>\n      <td>9.418699</td>\n      <td>3730.997353</td>\n      <td>0.264885</td>\n      <td>0.017377</td>\n      <td>...</td>\n      <td>3730.997272</td>\n      <td>0.264803</td>\n      <td>0.031408</td>\n      <td>0.001798</td>\n      <td>-0.025572</td>\n      <td>0.002686</td>\n      <td>-0.093506</td>\n      <td>0.995605</td>\n      <td>3730.998010</td>\n      <td>0.265542</td>\n    </tr>\n    <tr>\n      <th>1</th>\n      <td>e0e948a0-f7fb-4f02-af14-e8e4c40a0e2b</td>\n      <td>FixationCollider</td>\n      <td>3731.008460</td>\n      <td>0.275992</td>\n      <td>0.082237</td>\n      <td>1.446519</td>\n      <td>9.423999</td>\n      <td>3731.008465</td>\n      <td>0.275996</td>\n      <td>0.017391</td>\n      <td>...</td>\n      <td>3731.008376</td>\n      <td>0.275908</td>\n      <td>0.031048</td>\n      <td>0.001815</td>\n      <td>-0.025599</td>\n      <td>0.008621</td>\n      <td>-0.093369</td>\n      <td>0.995590</td>\n      <td>3731.009143</td>\n      <td>0.276674</td>\n    </tr>\n    <tr>\n      <th>2</th>\n      <td>e0e948a0-f7fb-4f02-af14-e8e4c40a0e2b</td>\n      <td>FixationCollider</td>\n      <td>3731.019443</td>\n      <td>0.286975</td>\n      <td>0.045631</td>\n      <td>1.432317</td>\n      <td>9.416549</td>\n      <td>3731.019446</td>\n      <td>0.286978</td>\n      <td>0.017432</td>\n      <td>...</td>\n      <td>3731.019357</td>\n      <td>0.286889</td>\n      <td>0.026963</td>\n      <td>0.001906</td>\n      <td>-0.025647</td>\n      <td>0.005142</td>\n      <td>-0.094482</td>\n      <td>0.995499</td>\n      <td>3731.020026</td>\n      <td>0.287558</td>\n    </tr>\n    <tr>\n      <th>3</th>\n      <td>e0e948a0-f7fb-4f02-af14-e8e4c40a0e2b</td>\n      <td>FixationCollider</td>\n      <td>3731.030531</td>\n      <td>0.298062</td>\n      <td>0.034770</td>\n      <td>1.427868</td>\n      <td>9.414793</td>\n      <td>3731.030533</td>\n      <td>0.298065</td>\n      <td>0.017440</td>\n      <td>...</td>\n      <td>3731.030461</td>\n      <td>0.297993</td>\n      <td>0.023141</td>\n      <td>0.001992</td>\n      <td>-0.025693</td>\n      <td>0.004288</td>\n      <td>-0.094803</td>\n      <td>0.995483</td>\n      <td>3731.031090</td>\n      <td>0.298622</td>\n    </tr>\n    <tr>\n      <th>4</th>\n      <td>e0e948a0-f7fb-4f02-af14-e8e4c40a0e2b</td>\n      <td>FixationCollider</td>\n      <td>3731.041669</td>\n      <td>0.309201</td>\n      <td>0.010570</td>\n      <td>1.432112</td>\n      <td>9.414815</td>\n      <td>3731.041672</td>\n      <td>0.309203</td>\n      <td>0.017486</td>\n      <td>...</td>\n      <td>3731.041608</td>\n      <td>0.309140</td>\n      <td>0.016942</td>\n      <td>0.002129</td>\n      <td>-0.025755</td>\n      <td>0.002258</td>\n      <td>-0.094482</td>\n      <td>0.995514</td>\n      <td>3731.042199</td>\n      <td>0.309731</td>\n    </tr>\n    <tr>\n      <th>...</th>\n      <td>...</td>\n      <td>...</td>\n      <td>...</td>\n      <td>...</td>\n      <td>...</td>\n      <td>...</td>\n      <td>...</td>\n      <td>...</td>\n      <td>...</td>\n      <td>...</td>\n      <td>...</td>\n      <td>...</td>\n      <td>...</td>\n      <td>...</td>\n      <td>...</td>\n      <td>...</td>\n      <td>...</td>\n      <td>...</td>\n      <td>...</td>\n      <td>...</td>\n      <td>...</td>\n    </tr>\n    <tr>\n      <th>100492</th>\n      <td>e0e948a0-f7fb-4f02-af14-e8e4c40a0e2b</td>\n      <td>FixationCollider</td>\n      <td>5066.133986</td>\n      <td>1335.401517</td>\n      <td>-0.173868</td>\n      <td>1.057811</td>\n      <td>9.479301</td>\n      <td>5066.133989</td>\n      <td>1335.401521</td>\n      <td>0.029180</td>\n      <td>...</td>\n      <td>5066.133909</td>\n      <td>1335.401441</td>\n      <td>-0.000950</td>\n      <td>0.003270</td>\n      <td>-0.027301</td>\n      <td>0.137268</td>\n      <td>-0.136169</td>\n      <td>0.981125</td>\n      <td>5066.134563</td>\n      <td>1335.402095</td>\n    </tr>\n    <tr>\n      <th>100493</th>\n      <td>e0e948a0-f7fb-4f02-af14-e8e4c40a0e2b</td>\n      <td>FixationCollider</td>\n      <td>5066.144915</td>\n      <td>1335.412447</td>\n      <td>-0.170069</td>\n      <td>1.069861</td>\n      <td>9.472626</td>\n      <td>5066.144917</td>\n      <td>1335.412449</td>\n      <td>0.029200</td>\n      <td>...</td>\n      <td>5066.144838</td>\n      <td>1335.412370</td>\n      <td>-0.000823</td>\n      <td>0.003266</td>\n      <td>-0.027293</td>\n      <td>0.137665</td>\n      <td>-0.135559</td>\n      <td>0.981155</td>\n      <td>5066.145489</td>\n      <td>1335.413020</td>\n    </tr>\n    <tr>\n      <th>100494</th>\n      <td>e0e948a0-f7fb-4f02-af14-e8e4c40a0e2b</td>\n      <td>FixationCollider</td>\n      <td>5066.156074</td>\n      <td>1335.423606</td>\n      <td>-0.169865</td>\n      <td>1.070280</td>\n      <td>9.472397</td>\n      <td>5066.156075</td>\n      <td>1335.423607</td>\n      <td>0.029205</td>\n      <td>...</td>\n      <td>5066.156014</td>\n      <td>1335.423545</td>\n      <td>-0.000680</td>\n      <td>0.003261</td>\n      <td>-0.027286</td>\n      <td>0.137695</td>\n      <td>-0.135757</td>\n      <td>0.981110</td>\n      <td>5066.156599</td>\n      <td>1335.424131</td>\n    </tr>\n    <tr>\n      <th>100495</th>\n      <td>e0e948a0-f7fb-4f02-af14-e8e4c40a0e2b</td>\n      <td>FixationCollider</td>\n      <td>5066.167128</td>\n      <td>1335.434660</td>\n      <td>-0.171499</td>\n      <td>1.069171</td>\n      <td>9.473394</td>\n      <td>5066.167129</td>\n      <td>1335.434661</td>\n      <td>0.029212</td>\n      <td>...</td>\n      <td>5066.167067</td>\n      <td>1335.434599</td>\n      <td>-0.000224</td>\n      <td>0.003246</td>\n      <td>-0.027267</td>\n      <td>0.137497</td>\n      <td>-0.136063</td>\n      <td>0.981110</td>\n      <td>5066.167650</td>\n      <td>1335.435181</td>\n    </tr>\n    <tr>\n      <th>100496</th>\n      <td>e0e948a0-f7fb-4f02-af14-e8e4c40a0e2b</td>\n      <td>FixationCollider</td>\n      <td>5066.178326</td>\n      <td>1335.445857</td>\n      <td>-0.171069</td>\n      <td>1.069634</td>\n      <td>9.473063</td>\n      <td>5066.178326</td>\n      <td>1335.445858</td>\n      <td>0.029159</td>\n      <td>...</td>\n      <td>5066.178263</td>\n      <td>1335.445795</td>\n      <td>-0.000586</td>\n      <td>0.003256</td>\n      <td>-0.027277</td>\n      <td>0.137543</td>\n      <td>-0.136307</td>\n      <td>0.981064</td>\n      <td>5066.178865</td>\n      <td>1335.446397</td>\n    </tr>\n  </tbody>\n</table>\n<p>100497 rows × 37 columns</p>\n</div>"
     },
     "execution_count": 223,
     "metadata": {},
     "output_type": "execute_result"
    }
   ],
   "source": [
    "# inspect the eye_tracking data\n",
    "df_eye = get_streams_data(streams, streams_keep=['HitObjectNames', 'HitPositionOnObjects','HeadTracking','EyeTrackingWorld','EyeTrackingLocal'])\n",
    "df_eye"
   ]
  },
  {
   "cell_type": "code",
   "execution_count": 151,
   "metadata": {},
   "outputs": [
    {
     "data": {
      "text/plain": [
       "UID                                 0\n",
       "HON_HitObjectNames                  0\n",
       "time_stamps_HitObjectNames          0\n",
       "HPOOX_HitPositionOnObjects          0\n",
       "HPOOY_HitPositionOnObjects          0\n",
       "HPOOZ_HitPositionOnObjects          0\n",
       "time_stamps_HitPositionOnObjects    0\n",
       "HToriginX_HeadTracking              0\n",
       "HToriginY_HeadTracking              0\n",
       "HToriginZ_HeadTracking              0\n",
       "HTdirectionX_HeadTracking           0\n",
       "HTdirectionY_HeadTracking           0\n",
       "HTdirectionZ_HeadTracking           0\n",
       "time_stamps_HeadTracking            0\n",
       "ETWTime_EyeTrackingWorld            0\n",
       "ETWoriginX_EyeTrackingWorld         0\n",
       "ETWoriginY_EyeTrackingWorld         0\n",
       "ETWoriginZ_EyeTrackingWorld         0\n",
       "ETWdirectionX_EyeTrackingWorld      0\n",
       "ETWdirectionY_EyeTrackingWorld      0\n",
       "ETWdirectionZ_EyeTrackingWorld      0\n",
       "leftBlink_EyeTrackingWorld          0\n",
       "rightBlink_EyeTrackingWorld         0\n",
       "valid_EyeTrackingWorld              0\n",
       "time_stamps_EyeTrackingWorld        0\n",
       "dtype: int64"
      ]
     },
     "execution_count": 151,
     "metadata": {},
     "output_type": "execute_result"
    }
   ],
   "source": [
    "# df_eye.describe()\n",
    "df_eye.isnull().sum()"
   ]
  },
  {
   "cell_type": "markdown",
   "metadata": {},
   "source": [
    "## 3. Create triggers\n",
    "- For each initial time an image was shown, we want to keep the type of object it was (i.e., face, object, body) as a separate column.\n",
    "- Additional triggers contain the rotation and distance the specific object was with respect to the player at the time the free-viewing walk took place.\n",
    "- __Note:__ We want the triggers only once to denote the initial time the image was shown."
   ]
  },
  {
   "cell_type": "code",
   "execution_count": 224,
   "metadata": {},
   "outputs": [],
   "source": [
    "def create_triggers(df):\n",
    "    # save the names of the object, body or face shown in the image\n",
    "    df['ob_names'] =  df.apply(lambda x: x[\"imageName_ImageInfo\"].split(\".\")[5] if len(x[\"imageName_ImageInfo\"].split(\".\")) > 7 else '', axis=1)\n",
    "    # create the triggers to mark the start of image displaying\n",
    "    # check when there is a change from image, canvas, fixationCross\n",
    "    df['shift'] = df['imageName_ImageInfo'].shift(1) != df['imageName_ImageInfo']\n",
    "    # save the starting time (aka 'latency') when image is displayed\n",
    "    df['latency'] = df.apply(lambda x: x['corrected_tstamps_Visual'] if len(x[\"imageName_ImageInfo\"].split(\".\")) > 7 and x['shift'] else '', axis=1)\n",
    "    # save the type of image displaying (face, object, body)\n",
    "    df['type'] = df.apply(lambda x: 'face' if x['shift'] and 'face' in x['imageName_ImageInfo'].lower()\n",
    "                                            else ('body' if x['shift'] and 'npc' in x['imageName_ImageInfo'].lower()\n",
    "                                            else ('object' if x['shift'] and 'rotation' in x['imageName_ImageInfo'].lower()\n",
    "                                            and 'face|npc' not in x['imageName_ImageInfo'].lower()\n",
    "                                            else '')), axis=1)\n",
    "    # define the triggers for rotation, distance, and block\n",
    "    df['rotation'] = df.apply(lambda x: 'r_' + x[\"imageName_ImageInfo\"].split(\".\")[7] if len(x[\"imageName_ImageInfo\"].split(\".\")) > 7 and x['shift'] else '', axis=1)\n",
    "    df['distance'] = df.apply(lambda x: 'd_' + x[\"imageName_ImageInfo\"].split(\".\")[9] if len(x[\"imageName_ImageInfo\"].split(\".\")) > 7 and x['shift'] else '', axis=1)\n",
    "    df['block'] = df.apply(lambda x: 'b_' + str(x[\"blockNumber_ImageInfo\"]) if len(x[\"imageName_ImageInfo\"].split(\".\")) > 7 and x['shift'] else '', axis=1)\n",
    "    # select the trigger columns and non empty rows\n",
    "    df_sel = df[['latency','type','rotation','distance','block']]\n",
    "    df_triggers = df_sel[df_sel['latency'] != '']\n",
    "    # save first uid for later usage\n",
    "    uid = df['uid'][0]\n",
    "    return df, df_triggers, uid"
   ]
  },
  {
   "cell_type": "code",
   "execution_count": 225,
   "metadata": {},
   "outputs": [
    {
     "data": {
      "text/plain": "                                         uid blockNumber_ImageInfo  \\\n0       e0e948a0-f7fb-4f02-af14-e8e4c40a0e2b                     0   \n1       e0e948a0-f7fb-4f02-af14-e8e4c40a0e2b                     0   \n2       e0e948a0-f7fb-4f02-af14-e8e4c40a0e2b                     0   \n3       e0e948a0-f7fb-4f02-af14-e8e4c40a0e2b                     0   \n4       e0e948a0-f7fb-4f02-af14-e8e4c40a0e2b                     0   \n...                                      ...                   ...   \n111175  e0e948a0-f7fb-4f02-af14-e8e4c40a0e2b                     1   \n111176  e0e948a0-f7fb-4f02-af14-e8e4c40a0e2b                     1   \n111177  e0e948a0-f7fb-4f02-af14-e8e4c40a0e2b                     1   \n111178  e0e948a0-f7fb-4f02-af14-e8e4c40a0e2b                     1   \n111179  e0e948a0-f7fb-4f02-af14-e8e4c40a0e2b                     1   \n\n                                      imageName_ImageInfo  \\\n0                                              grayCanvas   \n1                                              grayCanvas   \n2                                              grayCanvas   \n3                                              grayCanvas   \n4                                              grayCanvas   \n...                                                   ...   \n111175  img.1600x1000.date.2022-10-07_17-31-45.hitname...   \n111176  img.1600x1000.date.2022-10-07_17-31-45.hitname...   \n111177  img.1600x1000.date.2022-10-07_17-31-45.hitname...   \n111178  img.1600x1000.date.2022-10-07_17-31-45.hitname...   \n111179  img.1600x1000.date.2022-10-07_17-31-45.hitname...   \n\n        time_stamps_ImageInfo  corrected_tstamps_ImageInfo  cFrame_Visual  \\\n0                 3730.998672                     0.266204         3841.0   \n1                 3731.009716                     0.277248         3842.0   \n2                 3731.020642                     0.288174         3843.0   \n3                 3731.031608                     0.299140         3844.0   \n4                 3731.042741                     0.310273         3845.0   \n...                       ...                          ...            ...   \n111175            5066.135132                  1335.402663       114850.0   \n111176            5066.146061                  1335.413592       114851.0   \n111177            5066.157166                  1335.424698       114852.0   \n111178            5066.168250                  1335.435782       114853.0   \n111179            5066.179362                  1335.446894       114854.0   \n\n        displayStatus_Visual  worldTime_Visual  time_stamps_Visual  \\\n0                        2.0         91.064651         3730.998659   \n1                        2.0         91.075706         3731.009707   \n2                        2.0         91.086632         3731.020630   \n3                        2.0         91.097603         3731.031599   \n4                        2.0         91.108734         3731.042731   \n...                      ...               ...                 ...   \n111175                   0.0       1426.197998         5066.135121   \n111176                   0.0       1426.208862         5066.146050   \n111177                   0.0       1426.219971         5066.157156   \n111178                   0.0       1426.231079         5066.168240   \n111179                   0.0       1426.242188         5066.179353   \n\n        corrected_tstamps_Visual  ob_names  shift latency type rotation  \\\n0                       0.266191             True                         \n1                       0.277238            False                         \n2                       0.288162            False                         \n3                       0.299130            False                         \n4                       0.310263            False                         \n...                          ...       ...    ...     ...  ...      ...   \n111175               1335.402653  face_416  False                         \n111176               1335.413581  face_416  False                         \n111177               1335.424688  face_416  False                         \n111178               1335.435772  face_416  False                         \n111179               1335.446884  face_416  False                         \n\n       distance block  \n0                      \n1                      \n2                      \n3                      \n4                      \n...         ...   ...  \n111175                 \n111176                 \n111177                 \n111178                 \n111179                 \n\n[111180 rows x 17 columns]",
      "text/html": "<div>\n<style scoped>\n    .dataframe tbody tr th:only-of-type {\n        vertical-align: middle;\n    }\n\n    .dataframe tbody tr th {\n        vertical-align: top;\n    }\n\n    .dataframe thead th {\n        text-align: right;\n    }\n</style>\n<table border=\"1\" class=\"dataframe\">\n  <thead>\n    <tr style=\"text-align: right;\">\n      <th></th>\n      <th>uid</th>\n      <th>blockNumber_ImageInfo</th>\n      <th>imageName_ImageInfo</th>\n      <th>time_stamps_ImageInfo</th>\n      <th>corrected_tstamps_ImageInfo</th>\n      <th>cFrame_Visual</th>\n      <th>displayStatus_Visual</th>\n      <th>worldTime_Visual</th>\n      <th>time_stamps_Visual</th>\n      <th>corrected_tstamps_Visual</th>\n      <th>ob_names</th>\n      <th>shift</th>\n      <th>latency</th>\n      <th>type</th>\n      <th>rotation</th>\n      <th>distance</th>\n      <th>block</th>\n    </tr>\n  </thead>\n  <tbody>\n    <tr>\n      <th>0</th>\n      <td>e0e948a0-f7fb-4f02-af14-e8e4c40a0e2b</td>\n      <td>0</td>\n      <td>grayCanvas</td>\n      <td>3730.998672</td>\n      <td>0.266204</td>\n      <td>3841.0</td>\n      <td>2.0</td>\n      <td>91.064651</td>\n      <td>3730.998659</td>\n      <td>0.266191</td>\n      <td></td>\n      <td>True</td>\n      <td></td>\n      <td></td>\n      <td></td>\n      <td></td>\n      <td></td>\n    </tr>\n    <tr>\n      <th>1</th>\n      <td>e0e948a0-f7fb-4f02-af14-e8e4c40a0e2b</td>\n      <td>0</td>\n      <td>grayCanvas</td>\n      <td>3731.009716</td>\n      <td>0.277248</td>\n      <td>3842.0</td>\n      <td>2.0</td>\n      <td>91.075706</td>\n      <td>3731.009707</td>\n      <td>0.277238</td>\n      <td></td>\n      <td>False</td>\n      <td></td>\n      <td></td>\n      <td></td>\n      <td></td>\n      <td></td>\n    </tr>\n    <tr>\n      <th>2</th>\n      <td>e0e948a0-f7fb-4f02-af14-e8e4c40a0e2b</td>\n      <td>0</td>\n      <td>grayCanvas</td>\n      <td>3731.020642</td>\n      <td>0.288174</td>\n      <td>3843.0</td>\n      <td>2.0</td>\n      <td>91.086632</td>\n      <td>3731.020630</td>\n      <td>0.288162</td>\n      <td></td>\n      <td>False</td>\n      <td></td>\n      <td></td>\n      <td></td>\n      <td></td>\n      <td></td>\n    </tr>\n    <tr>\n      <th>3</th>\n      <td>e0e948a0-f7fb-4f02-af14-e8e4c40a0e2b</td>\n      <td>0</td>\n      <td>grayCanvas</td>\n      <td>3731.031608</td>\n      <td>0.299140</td>\n      <td>3844.0</td>\n      <td>2.0</td>\n      <td>91.097603</td>\n      <td>3731.031599</td>\n      <td>0.299130</td>\n      <td></td>\n      <td>False</td>\n      <td></td>\n      <td></td>\n      <td></td>\n      <td></td>\n      <td></td>\n    </tr>\n    <tr>\n      <th>4</th>\n      <td>e0e948a0-f7fb-4f02-af14-e8e4c40a0e2b</td>\n      <td>0</td>\n      <td>grayCanvas</td>\n      <td>3731.042741</td>\n      <td>0.310273</td>\n      <td>3845.0</td>\n      <td>2.0</td>\n      <td>91.108734</td>\n      <td>3731.042731</td>\n      <td>0.310263</td>\n      <td></td>\n      <td>False</td>\n      <td></td>\n      <td></td>\n      <td></td>\n      <td></td>\n      <td></td>\n    </tr>\n    <tr>\n      <th>...</th>\n      <td>...</td>\n      <td>...</td>\n      <td>...</td>\n      <td>...</td>\n      <td>...</td>\n      <td>...</td>\n      <td>...</td>\n      <td>...</td>\n      <td>...</td>\n      <td>...</td>\n      <td>...</td>\n      <td>...</td>\n      <td>...</td>\n      <td>...</td>\n      <td>...</td>\n      <td>...</td>\n      <td>...</td>\n    </tr>\n    <tr>\n      <th>111175</th>\n      <td>e0e948a0-f7fb-4f02-af14-e8e4c40a0e2b</td>\n      <td>1</td>\n      <td>img.1600x1000.date.2022-10-07_17-31-45.hitname...</td>\n      <td>5066.135132</td>\n      <td>1335.402663</td>\n      <td>114850.0</td>\n      <td>0.0</td>\n      <td>1426.197998</td>\n      <td>5066.135121</td>\n      <td>1335.402653</td>\n      <td>face_416</td>\n      <td>False</td>\n      <td></td>\n      <td></td>\n      <td></td>\n      <td></td>\n      <td></td>\n    </tr>\n    <tr>\n      <th>111176</th>\n      <td>e0e948a0-f7fb-4f02-af14-e8e4c40a0e2b</td>\n      <td>1</td>\n      <td>img.1600x1000.date.2022-10-07_17-31-45.hitname...</td>\n      <td>5066.146061</td>\n      <td>1335.413592</td>\n      <td>114851.0</td>\n      <td>0.0</td>\n      <td>1426.208862</td>\n      <td>5066.146050</td>\n      <td>1335.413581</td>\n      <td>face_416</td>\n      <td>False</td>\n      <td></td>\n      <td></td>\n      <td></td>\n      <td></td>\n      <td></td>\n    </tr>\n    <tr>\n      <th>111177</th>\n      <td>e0e948a0-f7fb-4f02-af14-e8e4c40a0e2b</td>\n      <td>1</td>\n      <td>img.1600x1000.date.2022-10-07_17-31-45.hitname...</td>\n      <td>5066.157166</td>\n      <td>1335.424698</td>\n      <td>114852.0</td>\n      <td>0.0</td>\n      <td>1426.219971</td>\n      <td>5066.157156</td>\n      <td>1335.424688</td>\n      <td>face_416</td>\n      <td>False</td>\n      <td></td>\n      <td></td>\n      <td></td>\n      <td></td>\n      <td></td>\n    </tr>\n    <tr>\n      <th>111178</th>\n      <td>e0e948a0-f7fb-4f02-af14-e8e4c40a0e2b</td>\n      <td>1</td>\n      <td>img.1600x1000.date.2022-10-07_17-31-45.hitname...</td>\n      <td>5066.168250</td>\n      <td>1335.435782</td>\n      <td>114853.0</td>\n      <td>0.0</td>\n      <td>1426.231079</td>\n      <td>5066.168240</td>\n      <td>1335.435772</td>\n      <td>face_416</td>\n      <td>False</td>\n      <td></td>\n      <td></td>\n      <td></td>\n      <td></td>\n      <td></td>\n    </tr>\n    <tr>\n      <th>111179</th>\n      <td>e0e948a0-f7fb-4f02-af14-e8e4c40a0e2b</td>\n      <td>1</td>\n      <td>img.1600x1000.date.2022-10-07_17-31-45.hitname...</td>\n      <td>5066.179362</td>\n      <td>1335.446894</td>\n      <td>114854.0</td>\n      <td>0.0</td>\n      <td>1426.242188</td>\n      <td>5066.179353</td>\n      <td>1335.446884</td>\n      <td>face_416</td>\n      <td>False</td>\n      <td></td>\n      <td></td>\n      <td></td>\n      <td></td>\n      <td></td>\n    </tr>\n  </tbody>\n</table>\n<p>111180 rows × 17 columns</p>\n</div>"
     },
     "execution_count": 225,
     "metadata": {},
     "output_type": "execute_result"
    }
   ],
   "source": [
    "df, df_triggers, uid = create_triggers(df)\n",
    "df"
   ]
  },
  {
   "cell_type": "code",
   "execution_count": 234,
   "outputs": [
    {
     "data": {
      "text/plain": "36"
     },
     "execution_count": 234,
     "metadata": {},
     "output_type": "execute_result"
    }
   ],
   "source": [
    "len('2afa150a-914a-4afd-95f3-e7c065ffc4f1')"
   ],
   "metadata": {
    "collapsed": false
   }
  },
  {
   "cell_type": "code",
   "execution_count": 239,
   "metadata": {},
   "outputs": [
    {
     "data": {
      "text/plain": "Processed:            0% 0/6 in 0.05s",
      "application/vnd.jupyter.widget-view+json": {
       "version_major": 2,
       "version_minor": 0,
       "model_id": "29323439e4ee4a3b860175e1382c1a3f"
      }
     },
     "metadata": {},
     "output_type": "display_data"
    },
    {
     "data": {
      "text/plain": ":            0% 0/6 in 0.01s",
      "application/vnd.jupyter.widget-view+json": {
       "version_major": 2,
       "version_minor": 0,
       "model_id": "2485e46909e548409319e645a221fe93"
      }
     },
     "metadata": {},
     "output_type": "display_data"
    },
    {
     "data": {
      "text/plain": ":            0% 0/6 in 0.04s",
      "application/vnd.jupyter.widget-view+json": {
       "version_major": 2,
       "version_minor": 0,
       "model_id": "ae3450cb95444875a5338b493d2c0dec"
      }
     },
     "metadata": {},
     "output_type": "display_data"
    },
    {
     "data": {
      "text/plain": ":            0% 0/6 in 0.02s",
      "application/vnd.jupyter.widget-view+json": {
       "version_major": 2,
       "version_minor": 0,
       "model_id": "b77b63a5e0f847c9b89b9f2ca175309a"
      }
     },
     "metadata": {},
     "output_type": "display_data"
    }
   ],
   "source": [
    "# path to save .csv with total images per block\n",
    "total_img_file = os.path.join(t_path, 'total_unique_images_per_user.csv')\n",
    "desc_file_streams = os.path.join(t_path, 'desc_files_streams.csv')\n",
    "\n",
    "# progress bar format definitons\n",
    "m_format = \"{desc}:{bar}{percentage:3.0f}% {n_fmt}/{total_fmt} in {elapsed_s:.2f}s\"\n",
    "s_format = (\"{desc}:{bar}{percentage:3.0f}% {n_fmt}/{total_fmt}{postfix} in {elapsed_s:.2f}s\")\n",
    "# main progress bar\n",
    "main_bar = tqdm(\n",
    "    os.listdir(r_path),\n",
    "    desc=\"Processed\",\n",
    "    dynamic_ncols=True,\n",
    "    mininterval=0.001,\n",
    "    bar_format=m_format,\n",
    ")\n",
    "# for k in main_bar:\n",
    "for file in main_bar:\n",
    "    if file.lower().endswith('.xdf'):\n",
    "        pbar = tqdm(\n",
    "        range(6),\n",
    "        mininterval=0.001,\n",
    "        maxinterval=1,\n",
    "        bar_format=s_format,)\n",
    "\n",
    "        pbar.set_postfix(file=file)\n",
    "        #### 1. Load the XDF file ####\n",
    "        postfix = {\"step\": \"1. Load the XDF file\", \"file\": file}\n",
    "        pbar.set_postfix(postfix)\n",
    "\n",
    "        streams, _ = pyxdf.load_xdf(os.path.join(r_path, file))\n",
    "        pbar.update(1)\n",
    "        #### 2. Store selected stream info (only useful info)\n",
    "        postfix = {\"step\": \"2. Store selected streams info\", \"file\": file}\n",
    "        pbar.set_postfix(postfix)\n",
    "        # store trigger-related stream data into df\n",
    "        df = get_streams_data(streams, streams_keep=['ImageInfo','Visual'], time_ref_stream='openvibeSignal')\n",
    "        # save eye_tracking related data\n",
    "        df_eye = get_streams_data(streams, streams_keep=['HitObjectNames', 'HitPositionOnObjects','HeadTracking','EyeTrackingWorld','EyeTrackingLocal'])\n",
    "        pbar.update(1)\n",
    "\n",
    "        #### 3. Create triggers ####\n",
    "        postfix = {\"step\": \"3. Creating triggers from ImageInfo\", \"file\": file}\n",
    "        pbar.set_postfix(postfix)\n",
    "        df_img, df_triggers, uid = create_triggers(df)\n",
    "        pbar.update(1)\n",
    "\n",
    "        #### 4. Save total number of images per block, per uid  ####\n",
    "        postfix = {\"step\": \"4 Saving total number of images per block, per uid\", \"file\": file}\n",
    "        pbar.set_postfix(postfix)\n",
    "        img_unique = df_img[~df_img['imageName_ImageInfo'].str.contains('fixation|grayCan|Message')]\n",
    "        total_images = img_unique.groupby('blockNumber_ImageInfo')['imageName_ImageInfo'].nunique().reset_index().rename(columns={\"blockNumber_ImageInfo\": \"block_number\", \"imageName_ImageInfo\": \"total_img\"})\n",
    "        # convert column to numeric to drop the duplicates correctly\n",
    "        total_images['block_number'] = pd.to_numeric(total_images['block_number'])\n",
    "\n",
    "        # save total images for all participants\n",
    "        if not os.path.isdir(t_path):\n",
    "            os.mkdir(t_path)\n",
    "        if not os.path.isdir(e_path):\n",
    "            os.mkdir(e_path)\n",
    "        desc_streams = describe_recordings(streams, file_name=file)\n",
    "\n",
    "        #### 5. Create streams description per recording  ####\n",
    "        postfix = {\"step\": \"5. Creating triggers from ImageInfo\", \"file\": file}\n",
    "        pbar.set_postfix(postfix)\n",
    "        if os.path.exists(desc_file_streams):\n",
    "            df_desc_files = pd.read_csv(desc_file_streams)\n",
    "            df_desc_files = pd.concat([df_desc_files,desc_streams], ignore_index=True)\n",
    "            df_desc_files.reset_index(drop=True, inplace=True)\n",
    "            df_desc_files.drop_duplicates(inplace=True, ignore_index=True)\n",
    "        else:\n",
    "            df_desc_files = desc_streams\n",
    "        df_desc_files.to_csv(desc_file_streams, index=False)\n",
    "        pbar.update(1)\n",
    "\n",
    "        total_images['uid'] = uid # add colum to total images csv with uid\n",
    "        if os.path.exists(total_img_file):\n",
    "            df_total_unique_img = pd.read_csv(total_img_file)\n",
    "            df_total_unique_img = pd.concat([df_total_unique_img,total_images], ignore_index=True)\n",
    "            df_total_unique_img.reset_index(drop=True, inplace=True)\n",
    "            df_total_unique_img.drop_duplicates(inplace=True, ignore_index=True)\n",
    "\n",
    "        else:\n",
    "            df_total_unique_img = total_images\n",
    "        df_total_unique_img.to_csv(total_img_file, index=False)\n",
    "        pbar.update(1)\n",
    "        #### 6. Saving triggers and et files ####\n",
    "        postfix = {\"step\": \"6. Saving triggers and et files\", \"file\": file}\n",
    "        pbar.set_postfix(postfix)\n",
    "        df_triggers.to_csv(os.path.join(t_path, 'trigger_file_' + uid +'.csv'), index=False)\n",
    "        df_eye.to_csv(os.path.join(e_path, 'et_' + uid + '.csv'), index=False)\n",
    "        pbar.update(1)\n",
    "        pbar.set_postfix(file=file)\n",
    "        pbar.close()"
   ]
  },
  {
   "cell_type": "code",
   "execution_count": null,
   "metadata": {},
   "outputs": [],
   "source": []
  }
 ],
 "metadata": {
  "kernelspec": {
   "name": "python3",
   "language": "python",
   "display_name": "Python 3"
  },
  "language_info": {
   "codemirror_mode": {
    "name": "ipython",
    "version": 3
   },
   "file_extension": ".py",
   "mimetype": "text/x-python",
   "name": "python",
   "nbconvert_exporter": "python",
   "pygments_lexer": "ipython3",
   "version": "3.8.2"
  }
 },
 "nbformat": 4,
 "nbformat_minor": 1
}
