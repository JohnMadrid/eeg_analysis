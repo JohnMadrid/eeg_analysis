{
 "cells": [
  {
   "cell_type": "markdown",
   "source": [
    "# Trigger files\n",
    "This notebook is intended to create the trigger files for the eeg data analysis."
   ],
   "metadata": {
    "collapsed": false
   }
  },
  {
   "cell_type": "code",
   "execution_count": 1,
   "metadata": {
    "collapsed": true
   },
   "outputs": [],
   "source": [
    "import copy\n",
    "import datetime\n",
    "import itertools\n",
    "import os\n",
    "\n",
    "import matplotlib.pyplot as plt\n",
    "import numpy as np\n",
    "from IPython.display import display\n",
    "from matplotlib.ticker import FormatStrFormatter\n",
    "\n",
    "import pandas as pd\n",
    "import pyxdf\n",
    "import seaborn as sns\n",
    "from scipy.signal import find_peaks\n",
    "from tqdm.notebook import tqdm"
   ]
  },
  {
   "cell_type": "code",
   "execution_count": 2,
   "outputs": [
    {
     "name": "stdout",
     "output_type": "stream",
     "text": [
      "Included:\n"
     ]
    },
    {
     "data": {
      "text/plain": "{0: {'file': '39_room1_251022.xdf', 'created': '25.10.2022 16:40'},\n 1: {'file': '40_room1_261022.xdf', 'created': '26.10.2022 16:54'}}"
     },
     "metadata": {},
     "output_type": "display_data"
    }
   ],
   "source": [
    "files = os.listdir(\"data\")  # get all files from the folder \"data\"\n",
    "files.sort()  # sort them alphabetically\n",
    "recordings = {}\n",
    "for i, file in enumerate(files):  # store and display all files\n",
    "    created = os.path.getmtime(f\"data/{file}\")  # creation timestamp\n",
    "    created = datetime.datetime.fromtimestamp(created)  # translate as datetime\n",
    "    created = created.strftime(\"%d.%m.%Y %H:%M\")  # arrange it\n",
    "    recordings[i] = {\"file\": file, \"created\": created}\n",
    "\n",
    "files = [f.split(\".\")[0] for f in files]\n",
    "print(\"Included:\")\n",
    "display(recordings)"
   ],
   "metadata": {
    "collapsed": false,
    "pycharm": {
     "name": "#%%\n"
    }
   }
  },
  {
   "cell_type": "markdown",
   "source": [
    "## 1. Load data"
   ],
   "metadata": {
    "collapsed": false
   }
  },
  {
   "cell_type": "code",
   "execution_count": null,
   "outputs": [],
   "source": [
    "# check streams for recording 0\n",
    "streams, _ = pyxdf.load_xdf(f\"data/{recordings[0]['file']}\")\n"
   ],
   "metadata": {
    "collapsed": false,
    "pycharm": {
     "name": "#%%\n",
     "is_executing": true
    }
   }
  },
  {
   "cell_type": "code",
   "execution_count": null,
   "outputs": [],
   "source": [
    "# stream channel names in recording 0\n",
    "s_channels = {streams[i][\"info\"][\"name\"][0]: i for i in range(len(streams))}\n",
    "s_channels"
   ],
   "metadata": {
    "collapsed": false,
    "pycharm": {
     "name": "#%%\n",
     "is_executing": true
    }
   }
  },
  {
   "cell_type": "code",
   "execution_count": 156,
   "outputs": [
    {
     "data": {
      "text/plain": "0                                             fixationCross\n1         img.1600x1000.date.2022-07-12_00-09-21.hitname...\n2         img.1600x1000.date.2022-07-12_00-09-21.hitname...\n3         img.1600x1000.date.2022-07-12_00-09-21.hitname...\n4         img.1600x1000.date.2022-07-12_00-09-21.hitname...\n                                ...                        \n301983                                           endMessage\n301984                                           endMessage\n301985                                           endMessage\n301986                                           endMessage\n301987                                           endMessage\nName: 1, Length: 301988, dtype: object"
     },
     "execution_count": 156,
     "metadata": {},
     "output_type": "execute_result"
    }
   ],
   "source": [
    "pd.DataFrame(streams[7]['time_series'])[1]"
   ],
   "metadata": {
    "collapsed": false,
    "pycharm": {
     "name": "#%%\n"
    }
   }
  },
  {
   "cell_type": "code",
   "execution_count": 23,
   "outputs": [],
   "source": [
    "# useful functions\n",
    "def correct_timestamps(ts):  # calculate time values from 0\n",
    "    corrected = [0]\n",
    "    length = len(ts)\n",
    "    [corrected.append(ts[i + 1] - ts[0]) for i in range(length) if i < length - 1]\n",
    "    return np.array(corrected)\n",
    "\n",
    "def select_streams(streams):\n",
    "    # stream names\n",
    "    names_ch = \"ImageInfo\"\n",
    "    # e_ch_name = \"openvibeSignal\"\n",
    "\n",
    "    # get all current streams with their positions on the recording\n",
    "    # example: {'Diode': 0, 'Audio': 1, 'openvibeSignal': 2}\n",
    "    s_channels = {streams[i][\"info\"][\"name\"][0]: i for i in range(len(streams))}\n",
    "\n",
    "    # store and return their positions\n",
    "    u = s_channels[names_ch]\n",
    "    # e = s_channels[e_ch_name]  # eeg stream channel (diode and microphone)\n",
    "    return u\n"
   ],
   "metadata": {
    "collapsed": false,
    "pycharm": {
     "name": "#%%\n"
    }
   }
  },
  {
   "cell_type": "markdown",
   "source": [
    "## 2. Create dataframe from streams"
   ],
   "metadata": {
    "collapsed": false
   }
  },
  {
   "cell_type": "code",
   "execution_count": 4,
   "outputs": [],
   "source": [
    "def get_streams_channel(streams, streams_keep=['ImageInfo','Visual']):\n",
    "    \"\"\"\n",
    "    :param streams: streams after loading from .xdf file\n",
    "    :param streams_keep: str. of the stream names to keep\n",
    "    :return: df containing the time_stamps and stream_data as columns for each stream to keep\n",
    "    \"\"\"\n",
    "    data = pd.DataFrame()\n",
    "    for i, ch_name in enumerate(streams_keep):\n",
    "        # get all current streams with their positions on the recording\n",
    "        # example: {'ImagesOrder': 0, 'ValidationError': 1, 'HeadTracking': 2}\n",
    "        s_channels = {streams[i][\"info\"][\"name\"][0]: i for i in range(len(streams))}\n",
    "        u = s_channels[ch_name]\n",
    "        # get timestamps and append to df\n",
    "        time_stamps =  streams[u]['time_stamps']\n",
    "        # check the type and length of data arrays and get only 1 value of the array\n",
    "        stream_data = streams[u]['time_series']\n",
    "        if isinstance(stream_data, (list,pd.core.series.Series,np.ndarray)):\n",
    "            stream_data = pd.DataFrame(streams[u]['time_series'])[1]\n",
    "        else:\n",
    "            stream_data = stream_data[:,1]\n",
    "        # append timestamps and stream_data to df as columns\n",
    "        data = pd.concat([data, pd.DataFrame(time_stamps, columns=[f\"time_stamps_{ch_name}\"])], axis=1)\n",
    "        data[f\"data_{ch_name}\"] = stream_data\n",
    "    return data"
   ],
   "metadata": {
    "collapsed": false,
    "pycharm": {
     "name": "#%%\n"
    }
   }
  },
  {
   "cell_type": "code",
   "execution_count": 5,
   "outputs": [
    {
     "data": {
      "text/plain": "        time_stamps_ImageInfo  \\\n0               934259.969858   \n1               934259.981103   \n2               934259.991990   \n3               934260.003191   \n4               934260.015160   \n...                       ...   \n301983          937961.059559   \n301984          937961.070648   \n301985          937961.081876   \n301986          937961.092953   \n301987          937961.104070   \n\n                                           data_ImageInfo  time_stamps_Visual  \\\n0                                           fixationCross       934259.969854   \n1       img.1600x1000.date.2022-07-12_00-09-21.hitname...       934259.981097   \n2       img.1600x1000.date.2022-07-12_00-09-21.hitname...       934259.991984   \n3       img.1600x1000.date.2022-07-12_00-09-21.hitname...       934260.003185   \n4       img.1600x1000.date.2022-07-12_00-09-21.hitname...       934260.015151   \n...                                                   ...                 ...   \n301983                                         endMessage       937961.059551   \n301984                                         endMessage       937961.070642   \n301985                                         endMessage       937961.081869   \n301986                                         endMessage       937961.092945   \n301987                                         endMessage       937961.104063   \n\n        data_Visual  \n0               1.0  \n1               0.0  \n2               0.0  \n3               0.0  \n4               0.0  \n...             ...  \n301983         99.0  \n301984         99.0  \n301985         99.0  \n301986         99.0  \n301987         99.0  \n\n[301988 rows x 4 columns]",
      "text/html": "<div>\n<style scoped>\n    .dataframe tbody tr th:only-of-type {\n        vertical-align: middle;\n    }\n\n    .dataframe tbody tr th {\n        vertical-align: top;\n    }\n\n    .dataframe thead th {\n        text-align: right;\n    }\n</style>\n<table border=\"1\" class=\"dataframe\">\n  <thead>\n    <tr style=\"text-align: right;\">\n      <th></th>\n      <th>time_stamps_ImageInfo</th>\n      <th>data_ImageInfo</th>\n      <th>time_stamps_Visual</th>\n      <th>data_Visual</th>\n    </tr>\n  </thead>\n  <tbody>\n    <tr>\n      <th>0</th>\n      <td>934259.969858</td>\n      <td>fixationCross</td>\n      <td>934259.969854</td>\n      <td>1.0</td>\n    </tr>\n    <tr>\n      <th>1</th>\n      <td>934259.981103</td>\n      <td>img.1600x1000.date.2022-07-12_00-09-21.hitname...</td>\n      <td>934259.981097</td>\n      <td>0.0</td>\n    </tr>\n    <tr>\n      <th>2</th>\n      <td>934259.991990</td>\n      <td>img.1600x1000.date.2022-07-12_00-09-21.hitname...</td>\n      <td>934259.991984</td>\n      <td>0.0</td>\n    </tr>\n    <tr>\n      <th>3</th>\n      <td>934260.003191</td>\n      <td>img.1600x1000.date.2022-07-12_00-09-21.hitname...</td>\n      <td>934260.003185</td>\n      <td>0.0</td>\n    </tr>\n    <tr>\n      <th>4</th>\n      <td>934260.015160</td>\n      <td>img.1600x1000.date.2022-07-12_00-09-21.hitname...</td>\n      <td>934260.015151</td>\n      <td>0.0</td>\n    </tr>\n    <tr>\n      <th>...</th>\n      <td>...</td>\n      <td>...</td>\n      <td>...</td>\n      <td>...</td>\n    </tr>\n    <tr>\n      <th>301983</th>\n      <td>937961.059559</td>\n      <td>endMessage</td>\n      <td>937961.059551</td>\n      <td>99.0</td>\n    </tr>\n    <tr>\n      <th>301984</th>\n      <td>937961.070648</td>\n      <td>endMessage</td>\n      <td>937961.070642</td>\n      <td>99.0</td>\n    </tr>\n    <tr>\n      <th>301985</th>\n      <td>937961.081876</td>\n      <td>endMessage</td>\n      <td>937961.081869</td>\n      <td>99.0</td>\n    </tr>\n    <tr>\n      <th>301986</th>\n      <td>937961.092953</td>\n      <td>endMessage</td>\n      <td>937961.092945</td>\n      <td>99.0</td>\n    </tr>\n    <tr>\n      <th>301987</th>\n      <td>937961.104070</td>\n      <td>endMessage</td>\n      <td>937961.104063</td>\n      <td>99.0</td>\n    </tr>\n  </tbody>\n</table>\n<p>301988 rows × 4 columns</p>\n</div>"
     },
     "execution_count": 5,
     "metadata": {},
     "output_type": "execute_result"
    }
   ],
   "source": [
    "df = get_streams_channel(streams, streams_keep=['ImageInfo','Visual'])\n",
    "df"
   ],
   "metadata": {
    "collapsed": false,
    "pycharm": {
     "name": "#%%\n"
    }
   }
  },
  {
   "cell_type": "markdown",
   "source": [
    "## 3. Create triggers\n",
    "- For each initial time an image was shown, we want to keep the type of object it was (i.e., face, object, body) as a separate column.\n",
    "- Additional triggers contain the rotation and distance the specific object was with respect to the player at the time the free-viewing walk took place.\n",
    "- __Note:__ We want the triggers only once to denote the initial time the image was shown."
   ],
   "metadata": {
    "collapsed": false
   }
  },
  {
   "cell_type": "code",
   "execution_count": 6,
   "outputs": [
    {
     "data": {
      "text/plain": "        time_stamps_ImageInfo  \\\n0               934259.969858   \n1               934259.981103   \n2               934259.991990   \n3               934260.003191   \n4               934260.015160   \n...                       ...   \n301983          937961.059559   \n301984          937961.070648   \n301985          937961.081876   \n301986          937961.092953   \n301987          937961.104070   \n\n                                           data_ImageInfo  time_stamps_Visual  \\\n0                                           fixationCross       934259.969854   \n1       img.1600x1000.date.2022-07-12_00-09-21.hitname...       934259.981097   \n2       img.1600x1000.date.2022-07-12_00-09-21.hitname...       934259.991984   \n3       img.1600x1000.date.2022-07-12_00-09-21.hitname...       934260.003185   \n4       img.1600x1000.date.2022-07-12_00-09-21.hitname...       934260.015151   \n...                                                   ...                 ...   \n301983                                         endMessage       937961.059551   \n301984                                         endMessage       937961.070642   \n301985                                         endMessage       937961.081869   \n301986                                         endMessage       937961.092945   \n301987                                         endMessage       937961.104063   \n\n        data_Visual                 Name  shift Triggers Rotation Distance  \n0               1.0                        True                             \n1               0.0  r_redFlyer_B011 (2)   True   object     r_24      d_9  \n2               0.0  r_redFlyer_B011 (2)  False                             \n3               0.0  r_redFlyer_B011 (2)  False                             \n4               0.0  r_redFlyer_B011 (2)  False                             \n...             ...                  ...    ...      ...      ...      ...  \n301983         99.0                       False                             \n301984         99.0                       False                             \n301985         99.0                       False                             \n301986         99.0                       False                             \n301987         99.0                       False                             \n\n[301988 rows x 9 columns]",
      "text/html": "<div>\n<style scoped>\n    .dataframe tbody tr th:only-of-type {\n        vertical-align: middle;\n    }\n\n    .dataframe tbody tr th {\n        vertical-align: top;\n    }\n\n    .dataframe thead th {\n        text-align: right;\n    }\n</style>\n<table border=\"1\" class=\"dataframe\">\n  <thead>\n    <tr style=\"text-align: right;\">\n      <th></th>\n      <th>time_stamps_ImageInfo</th>\n      <th>data_ImageInfo</th>\n      <th>time_stamps_Visual</th>\n      <th>data_Visual</th>\n      <th>Name</th>\n      <th>shift</th>\n      <th>Triggers</th>\n      <th>Rotation</th>\n      <th>Distance</th>\n    </tr>\n  </thead>\n  <tbody>\n    <tr>\n      <th>0</th>\n      <td>934259.969858</td>\n      <td>fixationCross</td>\n      <td>934259.969854</td>\n      <td>1.0</td>\n      <td></td>\n      <td>True</td>\n      <td></td>\n      <td></td>\n      <td></td>\n    </tr>\n    <tr>\n      <th>1</th>\n      <td>934259.981103</td>\n      <td>img.1600x1000.date.2022-07-12_00-09-21.hitname...</td>\n      <td>934259.981097</td>\n      <td>0.0</td>\n      <td>r_redFlyer_B011 (2)</td>\n      <td>True</td>\n      <td>object</td>\n      <td>r_24</td>\n      <td>d_9</td>\n    </tr>\n    <tr>\n      <th>2</th>\n      <td>934259.991990</td>\n      <td>img.1600x1000.date.2022-07-12_00-09-21.hitname...</td>\n      <td>934259.991984</td>\n      <td>0.0</td>\n      <td>r_redFlyer_B011 (2)</td>\n      <td>False</td>\n      <td></td>\n      <td></td>\n      <td></td>\n    </tr>\n    <tr>\n      <th>3</th>\n      <td>934260.003191</td>\n      <td>img.1600x1000.date.2022-07-12_00-09-21.hitname...</td>\n      <td>934260.003185</td>\n      <td>0.0</td>\n      <td>r_redFlyer_B011 (2)</td>\n      <td>False</td>\n      <td></td>\n      <td></td>\n      <td></td>\n    </tr>\n    <tr>\n      <th>4</th>\n      <td>934260.015160</td>\n      <td>img.1600x1000.date.2022-07-12_00-09-21.hitname...</td>\n      <td>934260.015151</td>\n      <td>0.0</td>\n      <td>r_redFlyer_B011 (2)</td>\n      <td>False</td>\n      <td></td>\n      <td></td>\n      <td></td>\n    </tr>\n    <tr>\n      <th>...</th>\n      <td>...</td>\n      <td>...</td>\n      <td>...</td>\n      <td>...</td>\n      <td>...</td>\n      <td>...</td>\n      <td>...</td>\n      <td>...</td>\n      <td>...</td>\n    </tr>\n    <tr>\n      <th>301983</th>\n      <td>937961.059559</td>\n      <td>endMessage</td>\n      <td>937961.059551</td>\n      <td>99.0</td>\n      <td></td>\n      <td>False</td>\n      <td></td>\n      <td></td>\n      <td></td>\n    </tr>\n    <tr>\n      <th>301984</th>\n      <td>937961.070648</td>\n      <td>endMessage</td>\n      <td>937961.070642</td>\n      <td>99.0</td>\n      <td></td>\n      <td>False</td>\n      <td></td>\n      <td></td>\n      <td></td>\n    </tr>\n    <tr>\n      <th>301985</th>\n      <td>937961.081876</td>\n      <td>endMessage</td>\n      <td>937961.081869</td>\n      <td>99.0</td>\n      <td></td>\n      <td>False</td>\n      <td></td>\n      <td></td>\n      <td></td>\n    </tr>\n    <tr>\n      <th>301986</th>\n      <td>937961.092953</td>\n      <td>endMessage</td>\n      <td>937961.092945</td>\n      <td>99.0</td>\n      <td></td>\n      <td>False</td>\n      <td></td>\n      <td></td>\n      <td></td>\n    </tr>\n    <tr>\n      <th>301987</th>\n      <td>937961.104070</td>\n      <td>endMessage</td>\n      <td>937961.104063</td>\n      <td>99.0</td>\n      <td></td>\n      <td>False</td>\n      <td></td>\n      <td></td>\n      <td></td>\n    </tr>\n  </tbody>\n</table>\n<p>301988 rows × 9 columns</p>\n</div>"
     },
     "execution_count": 6,
     "metadata": {},
     "output_type": "execute_result"
    }
   ],
   "source": [
    "# save the names of the image category\n",
    "df['Name'] =  df.apply(lambda x: 'r_' + x[\"data_ImageInfo\"].split(\".\")[5] if len(x[\"data_ImageInfo\"].split(\".\")) > 7 else '', axis=1)\n",
    "# creating the triggers for the first time an image is shown\n",
    "# check when there is a change from image, canvas, fixationCross\n",
    "df['shift'] = df['data_ImageInfo'].shift(1) != df['data_ImageInfo']\n",
    "df['Triggers'] = df.apply(lambda x: 'face' if x['shift'] and 'face' in x['data_ImageInfo'].lower()\n",
    "                                           else ('body' if x['shift'] and 'npc' in x['data_ImageInfo'].lower()\n",
    "                                           else ('object' if x['shift'] and 'rotation' in x['data_ImageInfo'].lower() and 'face|npc' not in x['data_ImageInfo'].lower()\n",
    "                                           else '')), axis=1)\n",
    "# define the triggers for rotation and distance\n",
    "df['Rotation'] = df.apply(lambda x: 'r_' + x[\"data_ImageInfo\"].split(\".\")[7] if len(x[\"data_ImageInfo\"].split(\".\")) > 7 and x['shift'] else '', axis=1)\n",
    "df['Distance'] = df.apply(lambda x: 'd_' + x[\"data_ImageInfo\"].split(\".\")[9] if len(x[\"data_ImageInfo\"].split(\".\")) > 7 and x['shift'] else '', axis=1)\n",
    "df"
   ],
   "metadata": {
    "collapsed": false,
    "pycharm": {
     "name": "#%%\n"
    }
   }
  },
  {
   "cell_type": "code",
   "execution_count": 8,
   "outputs": [
    {
     "data": {
      "text/plain": "'objectbodyobjectbodyobjectbodyobjectbodyobjectfacefacefacebodyobjectbodybodyobjectobjectbodyobjectfacebodyfacebodybodyobjectfacebodyfaceobjectfacebodyfacefacefacefaceobjectfacefaceobjectbodyfacebodyobjectbodybodybodyobjectobjectbodybodybodybodyfacebodyfaceobjectobjectfaceobjectbodyfaceobjectfacebodyfacefacefacefacebodybodyfacefaceobjectobjectfaceobjectfaceobjectfaceobjectbodyobjectobjectbodyobjectbodyfaceobjectobjectfacefaceobjectfacefacebodybodyobjectfacebodyobjectobjectfaceobjectbodyfacefacebodybodybodybodybodybodyfacefacebodyfacefacefaceobjectobjectobjectbodybodybodybodybodyobjectfacefaceobjectbodyfacebodybodyfaceobjectobjectfaceobjectbodybodyfaceobjectfacefacefaceobjectobjectbodyfacefacefacefacebodyobjectfaceobjectobjectfacebodybodybodyobjectbodybodyobjectfacefacefaceobjectbodyobjectfaceobjectfacebodybodyobjectobjectobjectfaceobjectbodyobjectfacebodybodybodyfaceobjectobjectfacefacefacefaceobjectfacebodyobjectbodyobjectobjectfaceobjectbodyfacefacebodyfacefacebodybodyobjectbodyfaceobjectfaceobjectfacebodybodyfacefaceobjectobjectbodyfacefacebodybodybodybodybodybodyobjectobjectfacefacebodybodyfaceobjectobjectfacefaceobjectbodyfacebodyobjectbodyfacebodyobjectfaceobjectbodybodyobjectobjectbodyobjectfacebodybodyobjectfaceobjectobjectfacefacebodyfaceobjectobjectfacebodybodybodyobjectfacefaceobjectbodyfaceobjectfacefacebodyfaceobjectobjectbodyfacefacebodybodyobjectbodyfaceobjectobjectobjectobjectbodybodyfaceobjectobjectobjectfacefaceobjectbodybodyobjectbodyfacefaceobjectbodybodybodyobjectobjectobjectbodyfacebodybodyobjectobjectbodyfacebodyfacebodyobjectfacefacebodyobjectobjectbodyobjectobjectobjectbodyfaceobjectobjectobjectbodyfaceobjectobjectbodyfaceobjectbodyfaceobjectobjectbodyobjectbodybodyobjectbodyobjectobjectbodyobjectbodyfacebodyfacefaceobjectobjectfacefacebodyobjectfacefacebodybodyfacefacefacebodybodyfacebodyfacefacebodyobjectobjectobjectbodyfacefacebodyobjectfacebodyobjectobjectobjectfaceobjectobjectfacefacebodyfacefacebodyobjectobjectbodyobjectbodybodybodybodybodyfacefaceobjectobjectbodyfaceobjectfaceobjectfaceobjectfaceobjectobjectfacebodyobjectbodybodybodyobjectbodyobjectobjectbodyobjectfacefaceobjectobjectobjectobjectfacebodyfacefaceobjectbodybodyfacebodybodyobjectbodyfacebodybodyfacefacefacefaceobjectfacebodyobjectfacebodybodyobjectfacebodyfaceobjectfacebodyobjectbodyfacefacefacefacebodybodyobjectobjectfacebodyfacebodybodyobjectfaceobjectobjectbodyobjectfacefacefaceobjectfacebodybodybodybodyfaceobjectbodybodyobjectbodyfacefaceobjectbodyfacebodyfacefacebodybodyobjectfacefacefacefacefacefaceobjectfaceobjectobjectfacebodyfacefacebodyobjectfacefacebodyobjectobjectbodyfacebodybodyfacebodyobjectobjectobjectobjectbodyobjectbodyfacefaceobjectobjectbodybodyfacefacebodyfaceobjectobjectobjectobjectfacefacebodyfacefaceobjectbodyobjectobjectbodyfacebodyobjectfacebodyfaceobjectobjectfacefacebodyfacebodyobjectbodyobjectfaceobjectobjectbodybodybodybodyobjectbodyobjectbodyobjectobjectfacebodyfaceobjectobjectobjectfacefacebodyobjectobjectobjectfaceobjectbodybodyobjectfacebodyfaceobjectbodybodyobjectobjectfacefacebodybodyfacefacebodybodybodybodybodyfacefacefacebodyobjectbodyfacebodyobjectfacebodyobjectobjectobjectbodyfacefaceobjectfacefacebodyobjectobjectbodyobjectbodybodyfacefacebodybodyobjectfacefacebodyobjectobjectobjectbodyfacebodyfacefacefacebodyobjectbodybodyfacebodybodybodybodyobjectfaceobjectobjectfaceobjectobjectobjectobjectfaceobjectbodyobjectfacefacefacebodyobjectbodyfacefacebodyfacebodyfacefacebodyfacefacebodyobjectbodyfacebodyfacebodyobjectfacebodyobjectobjectbodybodyfacefaceobjectfaceobjectfacebodyfaceobjectobjectobjectobjectbodyobjectbodyobjectbodybodyfaceobjectfaceobjectfacebodyobjectbodyobjectobjectobjectobjectfacebodybodyfacebodyobjectfacefacefaceobjectobjectfacebodyfacebodyfaceobjectfaceobjectobjectbodyobjectfacefaceobjectobjectbodybodybodyobjectbodybodyfaceobjectfacebodyobjectbodyobjectbodyobjectobjectfaceobjectobjectobjectfacefacefaceobjectbodyobjectobjectfacefaceobjectobjectfacebodybodyobjectbodybodybodyfaceobjectobjectobjectobjectobjectfacebodyfacefacefacefaceobjectfaceobjectbodyfaceobjectfacebodyobjectbodyobjectobjectobjectfacefacebodybodyfaceobjectbodyfacefaceobjectobjectfaceobjectobjectbodyobjectfacebodybodybodyfaceobjectfacefacefaceobjectobjectbodybodyfacefacefacebodyfaceobjectfacebodybodyobjectbodyfacebodybodyfaceobjectbodyobjectbodybodyobjectbodyfaceobjectbodybodybodybodybodyfacefacefaceobjectfacebodybodyobjectobjectfaceobjectbodybodyfaceobjectbodyobjectfacebodybodybodybodybodyfacebodybodybodyobjectobjectobjectbodyfaceobjectfaceobjectobjectobjectobjectfaceobjectobjectobjectbodyobjectobjectobjectfacebodyobjectfacefacebodyfaceobjectobjectobjectbodybodyobjectbodyobjectfacebodybodybodyfacefacefacebodyfacefacebodyobjectobjectobjectbodybodyfacebodyobjectbodyfacebodybodyfacefaceobjectfaceobjectfaceobjectbodyfacefacebodyfaceobjectobjectobjectobjectfaceobjectfacebodyfacefaceobjectobjectbodybodybodyobjectobjectbodybodyfaceobjectfaceobjectbodybodybodyobjectfacefacefacebodyobjectobjectbodyfaceobjectfacefaceobjectfacebodyfaceobjectobjectobjectfacefacebodyobjectbodyfacefacebodybodyobjectbodybodyobjectbodyfacebodybodybodyobjectfaceobjectfacebodybodyfacebodyfacefacefaceobjectobjectbodyfacefacefacefacefaceobjectfacefacefacefacefaceobjectfaceobjectobjectfaceobjectfaceobjectfacebodybodyfacebodyobjectfacebodyfacebodyobjectobjectfacebodybodyobjectbodyobjectfacebodybodyobjectobjectbodyobjectfacebodyobjectobjectobjectobjectfaceobjectobjectfaceobjectobjectobjectfacefacebodybodyfacefacebodybodyobjectobjectbodyfacebodyobjectfaceobjectfacebodyobjectobjectobjectfacefacebodybodyobjectbodyfacebodyfacebodyobjectbodyfacebodyobjectobjectbodybodyfacebodybodyfacefacefaceobjectfacebodyfacebodybodybodybodybodyfacefacefaceobjectobjectobjectbodyfaceobjectbodybodyfacefacefacefaceobjectfacefacebodyobjectbodybodyobjectbodyobjectbodyobjectfacefaceobjectobjectbodyobjectobjectbodyfacebodybodybodyobjectfacebodyfaceobjectfaceobjectfacebodyobjectfacefacebodyfacebodybodybodyobjectbodyfaceobjectobjectobjectobjectobjectbodyfacefacefacebodyfacefaceobjectbodybodybodyobjectbodyobjectfaceobjectfacebodyfacefaceobjectbodyobjectobjectfacefaceobjectfacefaceobjectobjectbodyfaceobjectfaceobjectbodyfacefaceobjectbodybodyobjectobjectbodyobjectbodybodybodyfacefaceobjectfaceobjectfaceobjectbodyobjectfaceobjectfacefacebodybodyfacebodyfacefacebodyobjectbodyobjectobjectobjectbodyobjectbodybodyobjectbodyobjectbodybodybodyobjectobjectfaceobjectfaceobjectobjectbodyobjectbodybodyfaceobjectfacebodyobjectfacebodyfacebodyfaceobjectfacefacefacefacebodyfacebodyfaceobjectobjectfacebodyfacefacefaceobjectfacefacebodyfacefaceobjectbodybodyobjectbodybodyobjectobjectfacefaceobjectbodybodybodyobjectfaceobjectobjectbodyobjectfacefacebodyfacebodybodybodyfacebodyfacebodybodyfacebodyfaceobjectbodyobjectfaceobjectfaceobjectbodyfacefacefacefacefacefacefaceobjectbodyobjectobjectobjectbodybodybodybodyfacefacefaceobjectbodyobjectfacefacebodybodyfacefacebodybodyfacebodyobjectbodybodyobjectobjectbodyobjectbodyobjectbodyfacefacebodyfacebodyobjectobjectbodyfacefaceobjectfaceobjectfacefaceobjectobjectbodyobjectobjectbodybodyobjectbodyobjectfaceobjectobjectbodybodyfacefacefacebodyfaceobjectobjectbodybodybodyobjectobjectbodyfacebodyobjectbodyobjectobjectobjectobjectbodyobjectobjectfacebodybodyobjectfacefaceobjectbodyfacebodybodybodyfacebodyfaceobjectbodyobjectobjectobjectbodyfaceobjectfacebodybodybodyobjectfacebodyfaceobjectobjectfacefacefacefaceobjectfaceobjectfacefacefacefacebodyobjectobjectfacebodybodyfacefacefacebodyobjectfaceobjectbodyfaceobjectbodybodyobjectfacefacebodyfaceobjectbodyobjectobjectfacebodyfaceobjectobjectobjectfaceobjectfaceobjectobjectfacebodyfacefacebodyobjectbodyobjectfacebodyobjectfaceobjectobjectbodyobjectobjectbodyfacebodyobjectobjectbodyfacebodyobjectbodyobjectobjectfacebodybodyfacebodyfacefacebodyobjectobjectbodybodyobjectbodybodyobject'"
     },
     "execution_count": 8,
     "metadata": {},
     "output_type": "execute_result"
    }
   ],
   "source": [
    "df['Triggers'].sum()"
   ],
   "metadata": {
    "collapsed": false,
    "pycharm": {
     "name": "#%%\n"
    }
   }
  },
  {
   "cell_type": "code",
   "execution_count": null,
   "outputs": [],
   "source": [],
   "metadata": {
    "collapsed": false,
    "pycharm": {
     "name": "#%%\n"
    }
   }
  }
 ],
 "metadata": {
  "kernelspec": {
   "display_name": "Python 3",
   "language": "python",
   "name": "python3"
  },
  "language_info": {
   "codemirror_mode": {
    "name": "ipython",
    "version": 2
   },
   "file_extension": ".py",
   "mimetype": "text/x-python",
   "name": "python",
   "nbconvert_exporter": "python",
   "pygments_lexer": "ipython2",
   "version": "2.7.6"
  }
 },
 "nbformat": 4,
 "nbformat_minor": 0
}