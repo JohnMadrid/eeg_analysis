{
 "cells": [
  {
   "cell_type": "markdown",
   "source": [
    "# Trigger files\n",
    "This notebook is intended to create the trigger files for the eeg data analysis."
   ],
   "metadata": {
    "collapsed": false
   }
  },
  {
   "cell_type": "code",
   "execution_count": 3,
   "metadata": {
    "collapsed": true
   },
   "outputs": [],
   "source": [
    "import copy\n",
    "import datetime\n",
    "import itertools\n",
    "import os\n",
    "\n",
    "import matplotlib.pyplot as plt\n",
    "import numpy as np\n",
    "from IPython.display import display\n",
    "from matplotlib.ticker import FormatStrFormatter\n",
    "\n",
    "import pandas as pd\n",
    "import pyxdf\n",
    "import seaborn as sns\n",
    "from scipy.signal import find_peaks\n",
    "from tqdm.notebook import tqdm"
   ]
  },
  {
   "cell_type": "code",
   "execution_count": 152,
   "outputs": [
    {
     "name": "stdout",
     "output_type": "stream",
     "text": [
      "Included:\n"
     ]
    },
    {
     "data": {
      "text/plain": "{1: {'file': '39_room1_251022.xdf', 'created': '25.10.2022 16:40'},\n 2: {'file': '40_room1_261022.xdf', 'created': '26.10.2022 16:54'}}"
     },
     "metadata": {},
     "output_type": "display_data"
    }
   ],
   "source": [
    "# path to data stored\n",
    "r_path = \"data\"\n",
    "# path to store trigger data\n",
    "t_path = r_path + '/triggers'\n",
    "# path to store eye-tracking data\n",
    "e_path = r_path + '/eye_tracking'\n",
    "\n",
    "files = os.listdir(r_path)  # get all files from the folder \"data\"\n",
    "files.sort()  # sort them alphabetically\n",
    "recordings = {}\n",
    "for i, file in enumerate(files):  # store and display all files\n",
    "    if file.endswith('.xdf'):\n",
    "        created = os.path.getmtime(f\"data/{file}\")  # creation timestamp\n",
    "        created = datetime.datetime.fromtimestamp(created)  # translate as datetime\n",
    "        created = created.strftime(\"%d.%m.%Y %H:%M\")  # arrange it\n",
    "        recordings[i] = {\"file\": file, \"created\": created}\n",
    "\n",
    "files = [f.split(\".\")[0] for f in files]\n",
    "print(\"Included:\")\n",
    "display(recordings)"
   ],
   "metadata": {
    "collapsed": false,
    "pycharm": {
     "name": "#%%\n"
    }
   }
  },
  {
   "cell_type": "markdown",
   "source": [
    "## 1. Load data"
   ],
   "metadata": {
    "collapsed": false
   }
  },
  {
   "cell_type": "code",
   "execution_count": 114,
   "outputs": [],
   "source": [
    "# check streams for recording 0\n",
    "streams, _ = pyxdf.load_xdf(f\"data/{recordings[2]['file']}\")"
   ],
   "metadata": {
    "collapsed": false,
    "pycharm": {
     "name": "#%%\n"
    }
   }
  },
  {
   "cell_type": "code",
   "execution_count": 115,
   "outputs": [
    {
     "data": {
      "text/plain": "{'HitPositionOnObjects': 0,\n 'ImagesOrder': 1,\n 'HitObjectPositions': 2,\n 'Visual': 3,\n 'ImageInfo': 4,\n 'ValidationError': 5,\n 'EyeTrackingLocal': 6,\n 'HeadTracking': 7,\n 'openvibeSignal': 8,\n 'EyeTrackingWorld': 9,\n 'HitObjectNames': 10}"
     },
     "execution_count": 115,
     "metadata": {},
     "output_type": "execute_result"
    }
   ],
   "source": [
    "# stream channel names in recording 0\n",
    "s_channels = {streams[i][\"info\"][\"name\"][0]: i for i in range(len(streams))}\n",
    "s_channels"
   ],
   "metadata": {
    "collapsed": false,
    "pycharm": {
     "name": "#%%\n"
    }
   }
  },
  {
   "cell_type": "code",
   "execution_count": 108,
   "outputs": [
    {
     "name": "stdout",
     "output_type": "stream",
     "text": [
      "ImagesOrder\n",
      "ValidationError\n",
      "HeadTracking\n",
      "openvibeSignal\n",
      "EyeTrackingLocal\n",
      "EyeTrackingWorld\n",
      "HitObjectPositions\n",
      "ImageInfo\n",
      "Visual\n",
      "HitObjectNames\n",
      "HitPositionOnObjects\n"
     ]
    }
   ],
   "source": [
    "for key, value in enumerate(s_channels):\n",
    "    print(str(value))"
   ],
   "metadata": {
    "collapsed": false,
    "pycharm": {
     "name": "#%%\n"
    }
   }
  },
  {
   "cell_type": "code",
   "execution_count": 148,
   "outputs": [
    {
     "data": {
      "text/plain": "array([[ 0.05188722,  2.6171317 ,  0.26521954, -0.00564698, -0.0143108 ,\n         0.9998816 ],\n       [ 0.05189477,  2.6171064 ,  0.26518586, -0.00556182, -0.01410132,\n         0.9998851 ],\n       [ 0.05188295,  2.617096  ,  0.26518765, -0.00543394, -0.01407026,\n         0.9998862 ],\n       ...,\n       [ 0.06265525,  2.620007  ,  0.3050403 , -0.08418018,  0.07387327,\n         0.99370843],\n       [ 0.06265999,  2.6200013 ,  0.30497307, -0.08413529,  0.07380783,\n         0.9937171 ],\n       [ 0.0626609 ,  2.6199858 ,  0.30492318, -0.0842477 ,  0.0739575 ,\n         0.99369645]], dtype=float32)"
     },
     "execution_count": 148,
     "metadata": {},
     "output_type": "execute_result"
    }
   ],
   "source": [
    "# streams[2]['info']['desc']\n",
    "streams[7]['time_series']"
   ],
   "metadata": {
    "collapsed": false,
    "pycharm": {
     "name": "#%%\n"
    }
   }
  },
  {
   "cell_type": "markdown",
   "source": [
    "## 2. Create dataframe from streams"
   ],
   "metadata": {
    "collapsed": false
   }
  },
  {
   "cell_type": "code",
   "execution_count": 316,
   "outputs": [],
   "source": [
    "def get_streams_data(streams, streams_keep=['ImageInfo','Visual']):\n",
    "    \"\"\"\n",
    "    :param streams: streams after loading from .xdf file\n",
    "    :param streams_keep: str. of the stream names to keep\n",
    "    :return: df containing the time_stamps and stream_data as columns for each stream to keep\n",
    "    \"\"\"\n",
    "    data = pd.DataFrame()\n",
    "    for i, ch_name in enumerate(streams_keep):\n",
    "        # get all current streams with their positions on the recording\n",
    "        # example: {'ImagesOrder': 0, 'ValidationError': 1, 'HeadTracking': 2}\n",
    "        s_channels = {streams[i][\"info\"][\"name\"][0]: i for i in range(len(streams))}\n",
    "        u = s_channels[ch_name]\n",
    "        # save the subject UID and append to df\n",
    "        uid = streams[u]['info']['uid']\n",
    "        data['uid'] = np.resize(uid,len(data))\n",
    "\n",
    "        # check the type and length of data arrays and get only 1 value of the array\n",
    "        stream_data = streams[u]['time_series']\n",
    "        # double check keys on each stream to make sure they are all appended to df\n",
    "        # print(f\"Stream {ch_name} keys: {streams[u]['info']['desc'][0].keys()}\")\n",
    "        # check stram_data is of kind np.array()\n",
    "        if isinstance(stream_data, (list,pd.core.series.Series,np.ndarray)):\n",
    "            # access all stream names in dictionary's 'info' description\n",
    "            for i, key in enumerate(streams[u]['info']['desc'][0].keys()):\n",
    "                # save each dict key as column to df\n",
    "                stream_data = pd.DataFrame(streams[u]['time_series'])[i]\n",
    "                data[f\"{key}_{ch_name}\"] = stream_data\n",
    "\n",
    "        # get timestamps and attach them as column to df\n",
    "        time_stamps =  streams[u]['time_stamps']\n",
    "        data = pd.concat([data, pd.DataFrame(time_stamps, columns=[f\"time_stamps_{ch_name}\"])], axis=1)\n",
    "\n",
    "    return data"
   ],
   "metadata": {
    "collapsed": false,
    "pycharm": {
     "name": "#%%\n"
    }
   }
  },
  {
   "cell_type": "code",
   "execution_count": 317,
   "outputs": [
    {
     "data": {
      "text/plain": "                                         uid blockNumber_ImageInfo  \\\n0       dfb99d79-4595-4a0d-b346-23282e000f10                     0   \n1       dfb99d79-4595-4a0d-b346-23282e000f10                     0   \n2       dfb99d79-4595-4a0d-b346-23282e000f10                     0   \n3       dfb99d79-4595-4a0d-b346-23282e000f10                     0   \n4       dfb99d79-4595-4a0d-b346-23282e000f10                     0   \n...                                      ...                   ...   \n345912  dfb99d79-4595-4a0d-b346-23282e000f10                     3   \n345913  dfb99d79-4595-4a0d-b346-23282e000f10                     3   \n345914  dfb99d79-4595-4a0d-b346-23282e000f10                     3   \n345915  dfb99d79-4595-4a0d-b346-23282e000f10                     3   \n345916  dfb99d79-4595-4a0d-b346-23282e000f10                     3   \n\n       imageName_ImageInfo  time_stamps_ImageInfo  cFrame_Visual  \\\n0             startMessage           1.021258e+06         1831.0   \n1             startMessage           1.021258e+06         1832.0   \n2             startMessage           1.021258e+06         1832.0   \n3             startMessage           1.021258e+06         1832.0   \n4             startMessage           1.021258e+06         1832.0   \n...                    ...                    ...            ...   \n345912          endMessage           1.025199e+06       347754.0   \n345913          endMessage           1.025199e+06       347755.0   \n345914          endMessage           1.025199e+06       347756.0   \n345915          endMessage           1.025199e+06       347757.0   \n345916          endMessage           1.025199e+06       347758.0   \n\n        displayStatus_Visual  worldTime_Visual  time_stamps_Visual  \n0                       -1.0         57.157524        1.021258e+06  \n1                       -1.0         57.162384        1.021258e+06  \n2                       -1.0         57.163330        1.021258e+06  \n3                       -1.0         57.163502        1.021258e+06  \n4                       -1.0         57.163681        1.021258e+06  \n...                      ...               ...                 ...  \n345912                  99.0       3998.594971        1.025199e+06  \n345913                  99.0       3998.606201        1.025199e+06  \n345914                  99.0       3998.617188        1.025199e+06  \n345915                  99.0       3998.628174        1.025199e+06  \n345916                  99.0       3998.639404        1.025199e+06  \n\n[345917 rows x 8 columns]",
      "text/html": "<div>\n<style scoped>\n    .dataframe tbody tr th:only-of-type {\n        vertical-align: middle;\n    }\n\n    .dataframe tbody tr th {\n        vertical-align: top;\n    }\n\n    .dataframe thead th {\n        text-align: right;\n    }\n</style>\n<table border=\"1\" class=\"dataframe\">\n  <thead>\n    <tr style=\"text-align: right;\">\n      <th></th>\n      <th>uid</th>\n      <th>blockNumber_ImageInfo</th>\n      <th>imageName_ImageInfo</th>\n      <th>time_stamps_ImageInfo</th>\n      <th>cFrame_Visual</th>\n      <th>displayStatus_Visual</th>\n      <th>worldTime_Visual</th>\n      <th>time_stamps_Visual</th>\n    </tr>\n  </thead>\n  <tbody>\n    <tr>\n      <th>0</th>\n      <td>dfb99d79-4595-4a0d-b346-23282e000f10</td>\n      <td>0</td>\n      <td>startMessage</td>\n      <td>1.021258e+06</td>\n      <td>1831.0</td>\n      <td>-1.0</td>\n      <td>57.157524</td>\n      <td>1.021258e+06</td>\n    </tr>\n    <tr>\n      <th>1</th>\n      <td>dfb99d79-4595-4a0d-b346-23282e000f10</td>\n      <td>0</td>\n      <td>startMessage</td>\n      <td>1.021258e+06</td>\n      <td>1832.0</td>\n      <td>-1.0</td>\n      <td>57.162384</td>\n      <td>1.021258e+06</td>\n    </tr>\n    <tr>\n      <th>2</th>\n      <td>dfb99d79-4595-4a0d-b346-23282e000f10</td>\n      <td>0</td>\n      <td>startMessage</td>\n      <td>1.021258e+06</td>\n      <td>1832.0</td>\n      <td>-1.0</td>\n      <td>57.163330</td>\n      <td>1.021258e+06</td>\n    </tr>\n    <tr>\n      <th>3</th>\n      <td>dfb99d79-4595-4a0d-b346-23282e000f10</td>\n      <td>0</td>\n      <td>startMessage</td>\n      <td>1.021258e+06</td>\n      <td>1832.0</td>\n      <td>-1.0</td>\n      <td>57.163502</td>\n      <td>1.021258e+06</td>\n    </tr>\n    <tr>\n      <th>4</th>\n      <td>dfb99d79-4595-4a0d-b346-23282e000f10</td>\n      <td>0</td>\n      <td>startMessage</td>\n      <td>1.021258e+06</td>\n      <td>1832.0</td>\n      <td>-1.0</td>\n      <td>57.163681</td>\n      <td>1.021258e+06</td>\n    </tr>\n    <tr>\n      <th>...</th>\n      <td>...</td>\n      <td>...</td>\n      <td>...</td>\n      <td>...</td>\n      <td>...</td>\n      <td>...</td>\n      <td>...</td>\n      <td>...</td>\n    </tr>\n    <tr>\n      <th>345912</th>\n      <td>dfb99d79-4595-4a0d-b346-23282e000f10</td>\n      <td>3</td>\n      <td>endMessage</td>\n      <td>1.025199e+06</td>\n      <td>347754.0</td>\n      <td>99.0</td>\n      <td>3998.594971</td>\n      <td>1.025199e+06</td>\n    </tr>\n    <tr>\n      <th>345913</th>\n      <td>dfb99d79-4595-4a0d-b346-23282e000f10</td>\n      <td>3</td>\n      <td>endMessage</td>\n      <td>1.025199e+06</td>\n      <td>347755.0</td>\n      <td>99.0</td>\n      <td>3998.606201</td>\n      <td>1.025199e+06</td>\n    </tr>\n    <tr>\n      <th>345914</th>\n      <td>dfb99d79-4595-4a0d-b346-23282e000f10</td>\n      <td>3</td>\n      <td>endMessage</td>\n      <td>1.025199e+06</td>\n      <td>347756.0</td>\n      <td>99.0</td>\n      <td>3998.617188</td>\n      <td>1.025199e+06</td>\n    </tr>\n    <tr>\n      <th>345915</th>\n      <td>dfb99d79-4595-4a0d-b346-23282e000f10</td>\n      <td>3</td>\n      <td>endMessage</td>\n      <td>1.025199e+06</td>\n      <td>347757.0</td>\n      <td>99.0</td>\n      <td>3998.628174</td>\n      <td>1.025199e+06</td>\n    </tr>\n    <tr>\n      <th>345916</th>\n      <td>dfb99d79-4595-4a0d-b346-23282e000f10</td>\n      <td>3</td>\n      <td>endMessage</td>\n      <td>1.025199e+06</td>\n      <td>347758.0</td>\n      <td>99.0</td>\n      <td>3998.639404</td>\n      <td>1.025199e+06</td>\n    </tr>\n  </tbody>\n</table>\n<p>345917 rows × 8 columns</p>\n</div>"
     },
     "execution_count": 317,
     "metadata": {},
     "output_type": "execute_result"
    }
   ],
   "source": [
    "df = get_streams_data(streams, streams_keep=['ImageInfo','Visual'])\n",
    "df"
   ],
   "metadata": {
    "collapsed": false,
    "pycharm": {
     "name": "#%%\n"
    }
   }
  },
  {
   "cell_type": "code",
   "execution_count": 125,
   "outputs": [
    {
     "data": {
      "text/plain": "       time_stamps_ImageInfo  cFrame_Visual  displayStatus_Visual  \\\ncount           3.459170e+05  345917.000000         345917.000000   \nmean            1.023226e+06  174779.500000              2.006155   \nstd             1.142137e+03   99866.382812              3.835076   \nmin             1.021258e+06    1831.000000             -1.000000   \n25%             1.022251e+06   88278.000000              1.000000   \n50%             1.023212e+06  174796.000000              2.000000   \n75%             1.024205e+06  261276.000000              2.000000   \nmax             1.025199e+06  347758.000000             99.000000   \n\n       worldTime_Visual  time_stamps_Visual  \ncount     345917.000000        3.459170e+05  \nmean        2025.562988        1.023226e+06  \nstd         1142.134766        1.142137e+03  \nmin           57.157524        1.021258e+06  \n25%         1050.553223        1.022251e+06  \n50%         2011.432495        1.023212e+06  \n75%         3004.952637        1.024205e+06  \nmax         3998.639404        1.025199e+06  ",
      "text/html": "<div>\n<style scoped>\n    .dataframe tbody tr th:only-of-type {\n        vertical-align: middle;\n    }\n\n    .dataframe tbody tr th {\n        vertical-align: top;\n    }\n\n    .dataframe thead th {\n        text-align: right;\n    }\n</style>\n<table border=\"1\" class=\"dataframe\">\n  <thead>\n    <tr style=\"text-align: right;\">\n      <th></th>\n      <th>time_stamps_ImageInfo</th>\n      <th>cFrame_Visual</th>\n      <th>displayStatus_Visual</th>\n      <th>worldTime_Visual</th>\n      <th>time_stamps_Visual</th>\n    </tr>\n  </thead>\n  <tbody>\n    <tr>\n      <th>count</th>\n      <td>3.459170e+05</td>\n      <td>345917.000000</td>\n      <td>345917.000000</td>\n      <td>345917.000000</td>\n      <td>3.459170e+05</td>\n    </tr>\n    <tr>\n      <th>mean</th>\n      <td>1.023226e+06</td>\n      <td>174779.500000</td>\n      <td>2.006155</td>\n      <td>2025.562988</td>\n      <td>1.023226e+06</td>\n    </tr>\n    <tr>\n      <th>std</th>\n      <td>1.142137e+03</td>\n      <td>99866.382812</td>\n      <td>3.835076</td>\n      <td>1142.134766</td>\n      <td>1.142137e+03</td>\n    </tr>\n    <tr>\n      <th>min</th>\n      <td>1.021258e+06</td>\n      <td>1831.000000</td>\n      <td>-1.000000</td>\n      <td>57.157524</td>\n      <td>1.021258e+06</td>\n    </tr>\n    <tr>\n      <th>25%</th>\n      <td>1.022251e+06</td>\n      <td>88278.000000</td>\n      <td>1.000000</td>\n      <td>1050.553223</td>\n      <td>1.022251e+06</td>\n    </tr>\n    <tr>\n      <th>50%</th>\n      <td>1.023212e+06</td>\n      <td>174796.000000</td>\n      <td>2.000000</td>\n      <td>2011.432495</td>\n      <td>1.023212e+06</td>\n    </tr>\n    <tr>\n      <th>75%</th>\n      <td>1.024205e+06</td>\n      <td>261276.000000</td>\n      <td>2.000000</td>\n      <td>3004.952637</td>\n      <td>1.024205e+06</td>\n    </tr>\n    <tr>\n      <th>max</th>\n      <td>1.025199e+06</td>\n      <td>347758.000000</td>\n      <td>99.000000</td>\n      <td>3998.639404</td>\n      <td>1.025199e+06</td>\n    </tr>\n  </tbody>\n</table>\n</div>"
     },
     "execution_count": 125,
     "metadata": {},
     "output_type": "execute_result"
    }
   ],
   "source": [
    "# quick statistics to know if all rows have same length\n",
    "df.describe()\n",
    "# df['HON_HitObjectNames'].isnull().sum()\n",
    "# df['HON_HitObjectNames'].unique()"
   ],
   "metadata": {
    "collapsed": false,
    "pycharm": {
     "name": "#%%\n"
    }
   }
  },
  {
   "cell_type": "code",
   "execution_count": 149,
   "outputs": [
    {
     "name": "stdout",
     "output_type": "stream",
     "text": [
      "Stream HitObjectNames keys: dict_keys(['HON'])\n",
      "Stream HitPositionOnObjects keys: dict_keys(['HPOOX', 'HPOOY', 'HPOOZ'])\n",
      "Stream HeadTracking keys: dict_keys(['HToriginX', 'HToriginY', 'HToriginZ', 'HTdirectionX', 'HTdirectionY', 'HTdirectionZ'])\n",
      "Stream EyeTrackingWorld keys: dict_keys(['ETWTime', 'ETWoriginX', 'ETWoriginY', 'ETWoriginZ', 'ETWdirectionX', 'ETWdirectionY', 'ETWdirectionZ', 'leftBlink', 'rightBlink', 'valid'])\n"
     ]
    },
    {
     "data": {
      "text/plain": "                                         UID HON_HitObjectNames  \\\n0       6041b0a9-1fb2-4c9b-8d36-29b6c1ee3421      DisplayCanvas   \n1       6041b0a9-1fb2-4c9b-8d36-29b6c1ee3421      DisplayCanvas   \n2       6041b0a9-1fb2-4c9b-8d36-29b6c1ee3421      DisplayCanvas   \n3       6041b0a9-1fb2-4c9b-8d36-29b6c1ee3421      DisplayCanvas   \n4       6041b0a9-1fb2-4c9b-8d36-29b6c1ee3421      DisplayCanvas   \n...                                      ...                ...   \n268047  6041b0a9-1fb2-4c9b-8d36-29b6c1ee3421   FixationCollider   \n268048  6041b0a9-1fb2-4c9b-8d36-29b6c1ee3421   FixationCollider   \n268049  6041b0a9-1fb2-4c9b-8d36-29b6c1ee3421   FixationCollider   \n268050  6041b0a9-1fb2-4c9b-8d36-29b6c1ee3421   FixationCollider   \n268051  6041b0a9-1fb2-4c9b-8d36-29b6c1ee3421   FixationCollider   \n\n        time_stamps_HitObjectNames  HPOOX_HitPositionOnObjects  \\\n0                     1.021275e+06                    0.688816   \n1                     1.021275e+06                    0.690930   \n2                     1.021275e+06                    0.686294   \n3                     1.021275e+06                    0.623313   \n4                     1.021275e+06                    0.623996   \n...                            ...                         ...   \n268047                1.025194e+06                   -0.093281   \n268048                1.025194e+06                   -0.090902   \n268049                1.025194e+06                   -0.088866   \n268050                1.025194e+06                   -0.088808   \n268051                1.025194e+06                   -0.088201   \n\n        HPOOY_HitPositionOnObjects  HPOOZ_HitPositionOnObjects  \\\n0                         2.983938                    9.900000   \n1                         2.991683                    9.900000   \n2                         2.992306                    9.900000   \n3                         2.981323                    9.900000   \n4                         2.980973                    9.900000   \n...                            ...                         ...   \n268047                    1.308327                    9.285572   \n268048                    1.307544                    9.285041   \n268049                    1.283516                    9.278251   \n268050                    1.282828                    9.278063   \n268051                    1.285172                    9.278578   \n\n        time_stamps_HitPositionOnObjects  HToriginX_HeadTracking  \\\n0                           1.021275e+06                0.051887   \n1                           1.021275e+06                0.051895   \n2                           1.021275e+06                0.051883   \n3                           1.021275e+06                0.051898   \n4                           1.021275e+06                0.051895   \n...                                  ...                     ...   \n268047                      1.025194e+06                0.062706   \n268048                      1.025194e+06                0.062677   \n268049                      1.025194e+06                0.062655   \n268050                      1.025194e+06                0.062660   \n268051                      1.025194e+06                0.062661   \n\n        HToriginY_HeadTracking  HToriginZ_HeadTracking  ...  \\\n0                     2.617132                0.265220  ...   \n1                     2.617106                0.265186  ...   \n2                     2.617096                0.265188  ...   \n3                     2.617072                0.265240  ...   \n4                     2.617085                0.265254  ...   \n...                        ...                     ...  ...   \n268047                2.620039                0.305145  ...   \n268048                2.620066                0.305095  ...   \n268049                2.620007                0.305040  ...   \n268050                2.620001                0.304973  ...   \n268051                2.619986                0.304923  ...   \n\n        ETWoriginX_EyeTrackingWorld  ETWoriginY_EyeTrackingWorld  \\\n0                          0.082040                     2.615271   \n1                          0.082048                     2.615263   \n2                          0.082061                     2.615264   \n3                          0.060661                     2.614614   \n4                          0.061041                     2.614604   \n...                             ...                          ...   \n268047                     0.061185                     2.622173   \n268048                     0.061382                     2.622180   \n268049                     0.062218                     2.622194   \n268050                     0.062758                     2.622205   \n268051                     0.063073                     2.622200   \n\n        ETWoriginZ_EyeTrackingWorld  ETWdirectionX_EyeTrackingWorld  \\\n0                          0.267029                        0.062838   \n1                          0.267020                        0.063055   \n2                          0.267023                        0.062576   \n3                          0.266999                        0.058286   \n4                          0.266990                        0.058317   \n...                             ...                             ...   \n268047                     0.305193                       -0.017096   \n268048                     0.305206                       -0.016855   \n268049                     0.305289                       -0.016732   \n268050                     0.305336                       -0.016785   \n268051                     0.305361                       -0.016753   \n\n        ETWdirectionY_EyeTrackingWorld  ETWdirectionZ_EyeTrackingWorld  \\\n0                             0.038180                        0.997602   \n1                             0.038982                        0.997584   \n2                             0.039047                        0.997610   \n3                             0.037988                        0.997889   \n4                             0.037952                        0.997884   \n...                                ...                             ...   \n268047                       -0.145415                        0.993936   \n268048                       -0.145510                        0.993928   \n268049                       -0.148252                        0.993710   \n268050                       -0.148332                        0.993702   \n268051                       -0.148067                        0.993726   \n\n        leftBlink_EyeTrackingWorld  rightBlink_EyeTrackingWorld  \\\n0                              0.0                          0.0   \n1                              0.0                          0.0   \n2                              0.0                          0.0   \n3                              0.0                          0.0   \n4                              0.0                          0.0   \n...                            ...                          ...   \n268047                         0.0                          0.0   \n268048                         0.0                          0.0   \n268049                         0.0                          0.0   \n268050                         0.0                          0.0   \n268051                         0.0                          0.0   \n\n        valid_EyeTrackingWorld  time_stamps_EyeTrackingWorld  \n0                          1.0                  1.021275e+06  \n1                          1.0                  1.021275e+06  \n2                          1.0                  1.021275e+06  \n3                          1.0                  1.021275e+06  \n4                          1.0                  1.021275e+06  \n...                        ...                           ...  \n268047                     1.0                  1.025194e+06  \n268048                     1.0                  1.025194e+06  \n268049                     1.0                  1.025194e+06  \n268050                     1.0                  1.025194e+06  \n268051                     1.0                  1.025194e+06  \n\n[268052 rows x 25 columns]",
      "text/html": "<div>\n<style scoped>\n    .dataframe tbody tr th:only-of-type {\n        vertical-align: middle;\n    }\n\n    .dataframe tbody tr th {\n        vertical-align: top;\n    }\n\n    .dataframe thead th {\n        text-align: right;\n    }\n</style>\n<table border=\"1\" class=\"dataframe\">\n  <thead>\n    <tr style=\"text-align: right;\">\n      <th></th>\n      <th>UID</th>\n      <th>HON_HitObjectNames</th>\n      <th>time_stamps_HitObjectNames</th>\n      <th>HPOOX_HitPositionOnObjects</th>\n      <th>HPOOY_HitPositionOnObjects</th>\n      <th>HPOOZ_HitPositionOnObjects</th>\n      <th>time_stamps_HitPositionOnObjects</th>\n      <th>HToriginX_HeadTracking</th>\n      <th>HToriginY_HeadTracking</th>\n      <th>HToriginZ_HeadTracking</th>\n      <th>...</th>\n      <th>ETWoriginX_EyeTrackingWorld</th>\n      <th>ETWoriginY_EyeTrackingWorld</th>\n      <th>ETWoriginZ_EyeTrackingWorld</th>\n      <th>ETWdirectionX_EyeTrackingWorld</th>\n      <th>ETWdirectionY_EyeTrackingWorld</th>\n      <th>ETWdirectionZ_EyeTrackingWorld</th>\n      <th>leftBlink_EyeTrackingWorld</th>\n      <th>rightBlink_EyeTrackingWorld</th>\n      <th>valid_EyeTrackingWorld</th>\n      <th>time_stamps_EyeTrackingWorld</th>\n    </tr>\n  </thead>\n  <tbody>\n    <tr>\n      <th>0</th>\n      <td>6041b0a9-1fb2-4c9b-8d36-29b6c1ee3421</td>\n      <td>DisplayCanvas</td>\n      <td>1.021275e+06</td>\n      <td>0.688816</td>\n      <td>2.983938</td>\n      <td>9.900000</td>\n      <td>1.021275e+06</td>\n      <td>0.051887</td>\n      <td>2.617132</td>\n      <td>0.265220</td>\n      <td>...</td>\n      <td>0.082040</td>\n      <td>2.615271</td>\n      <td>0.267029</td>\n      <td>0.062838</td>\n      <td>0.038180</td>\n      <td>0.997602</td>\n      <td>0.0</td>\n      <td>0.0</td>\n      <td>1.0</td>\n      <td>1.021275e+06</td>\n    </tr>\n    <tr>\n      <th>1</th>\n      <td>6041b0a9-1fb2-4c9b-8d36-29b6c1ee3421</td>\n      <td>DisplayCanvas</td>\n      <td>1.021275e+06</td>\n      <td>0.690930</td>\n      <td>2.991683</td>\n      <td>9.900000</td>\n      <td>1.021275e+06</td>\n      <td>0.051895</td>\n      <td>2.617106</td>\n      <td>0.265186</td>\n      <td>...</td>\n      <td>0.082048</td>\n      <td>2.615263</td>\n      <td>0.267020</td>\n      <td>0.063055</td>\n      <td>0.038982</td>\n      <td>0.997584</td>\n      <td>0.0</td>\n      <td>0.0</td>\n      <td>1.0</td>\n      <td>1.021275e+06</td>\n    </tr>\n    <tr>\n      <th>2</th>\n      <td>6041b0a9-1fb2-4c9b-8d36-29b6c1ee3421</td>\n      <td>DisplayCanvas</td>\n      <td>1.021275e+06</td>\n      <td>0.686294</td>\n      <td>2.992306</td>\n      <td>9.900000</td>\n      <td>1.021275e+06</td>\n      <td>0.051883</td>\n      <td>2.617096</td>\n      <td>0.265188</td>\n      <td>...</td>\n      <td>0.082061</td>\n      <td>2.615264</td>\n      <td>0.267023</td>\n      <td>0.062576</td>\n      <td>0.039047</td>\n      <td>0.997610</td>\n      <td>0.0</td>\n      <td>0.0</td>\n      <td>1.0</td>\n      <td>1.021275e+06</td>\n    </tr>\n    <tr>\n      <th>3</th>\n      <td>6041b0a9-1fb2-4c9b-8d36-29b6c1ee3421</td>\n      <td>DisplayCanvas</td>\n      <td>1.021275e+06</td>\n      <td>0.623313</td>\n      <td>2.981323</td>\n      <td>9.900000</td>\n      <td>1.021275e+06</td>\n      <td>0.051898</td>\n      <td>2.617072</td>\n      <td>0.265240</td>\n      <td>...</td>\n      <td>0.060661</td>\n      <td>2.614614</td>\n      <td>0.266999</td>\n      <td>0.058286</td>\n      <td>0.037988</td>\n      <td>0.997889</td>\n      <td>0.0</td>\n      <td>0.0</td>\n      <td>1.0</td>\n      <td>1.021275e+06</td>\n    </tr>\n    <tr>\n      <th>4</th>\n      <td>6041b0a9-1fb2-4c9b-8d36-29b6c1ee3421</td>\n      <td>DisplayCanvas</td>\n      <td>1.021275e+06</td>\n      <td>0.623996</td>\n      <td>2.980973</td>\n      <td>9.900000</td>\n      <td>1.021275e+06</td>\n      <td>0.051895</td>\n      <td>2.617085</td>\n      <td>0.265254</td>\n      <td>...</td>\n      <td>0.061041</td>\n      <td>2.614604</td>\n      <td>0.266990</td>\n      <td>0.058317</td>\n      <td>0.037952</td>\n      <td>0.997884</td>\n      <td>0.0</td>\n      <td>0.0</td>\n      <td>1.0</td>\n      <td>1.021275e+06</td>\n    </tr>\n    <tr>\n      <th>...</th>\n      <td>...</td>\n      <td>...</td>\n      <td>...</td>\n      <td>...</td>\n      <td>...</td>\n      <td>...</td>\n      <td>...</td>\n      <td>...</td>\n      <td>...</td>\n      <td>...</td>\n      <td>...</td>\n      <td>...</td>\n      <td>...</td>\n      <td>...</td>\n      <td>...</td>\n      <td>...</td>\n      <td>...</td>\n      <td>...</td>\n      <td>...</td>\n      <td>...</td>\n      <td>...</td>\n    </tr>\n    <tr>\n      <th>268047</th>\n      <td>6041b0a9-1fb2-4c9b-8d36-29b6c1ee3421</td>\n      <td>FixationCollider</td>\n      <td>1.025194e+06</td>\n      <td>-0.093281</td>\n      <td>1.308327</td>\n      <td>9.285572</td>\n      <td>1.025194e+06</td>\n      <td>0.062706</td>\n      <td>2.620039</td>\n      <td>0.305145</td>\n      <td>...</td>\n      <td>0.061185</td>\n      <td>2.622173</td>\n      <td>0.305193</td>\n      <td>-0.017096</td>\n      <td>-0.145415</td>\n      <td>0.993936</td>\n      <td>0.0</td>\n      <td>0.0</td>\n      <td>1.0</td>\n      <td>1.025194e+06</td>\n    </tr>\n    <tr>\n      <th>268048</th>\n      <td>6041b0a9-1fb2-4c9b-8d36-29b6c1ee3421</td>\n      <td>FixationCollider</td>\n      <td>1.025194e+06</td>\n      <td>-0.090902</td>\n      <td>1.307544</td>\n      <td>9.285041</td>\n      <td>1.025194e+06</td>\n      <td>0.062677</td>\n      <td>2.620066</td>\n      <td>0.305095</td>\n      <td>...</td>\n      <td>0.061382</td>\n      <td>2.622180</td>\n      <td>0.305206</td>\n      <td>-0.016855</td>\n      <td>-0.145510</td>\n      <td>0.993928</td>\n      <td>0.0</td>\n      <td>0.0</td>\n      <td>1.0</td>\n      <td>1.025194e+06</td>\n    </tr>\n    <tr>\n      <th>268049</th>\n      <td>6041b0a9-1fb2-4c9b-8d36-29b6c1ee3421</td>\n      <td>FixationCollider</td>\n      <td>1.025194e+06</td>\n      <td>-0.088866</td>\n      <td>1.283516</td>\n      <td>9.278251</td>\n      <td>1.025194e+06</td>\n      <td>0.062655</td>\n      <td>2.620007</td>\n      <td>0.305040</td>\n      <td>...</td>\n      <td>0.062218</td>\n      <td>2.622194</td>\n      <td>0.305289</td>\n      <td>-0.016732</td>\n      <td>-0.148252</td>\n      <td>0.993710</td>\n      <td>0.0</td>\n      <td>0.0</td>\n      <td>1.0</td>\n      <td>1.025194e+06</td>\n    </tr>\n    <tr>\n      <th>268050</th>\n      <td>6041b0a9-1fb2-4c9b-8d36-29b6c1ee3421</td>\n      <td>FixationCollider</td>\n      <td>1.025194e+06</td>\n      <td>-0.088808</td>\n      <td>1.282828</td>\n      <td>9.278063</td>\n      <td>1.025194e+06</td>\n      <td>0.062660</td>\n      <td>2.620001</td>\n      <td>0.304973</td>\n      <td>...</td>\n      <td>0.062758</td>\n      <td>2.622205</td>\n      <td>0.305336</td>\n      <td>-0.016785</td>\n      <td>-0.148332</td>\n      <td>0.993702</td>\n      <td>0.0</td>\n      <td>0.0</td>\n      <td>1.0</td>\n      <td>1.025194e+06</td>\n    </tr>\n    <tr>\n      <th>268051</th>\n      <td>6041b0a9-1fb2-4c9b-8d36-29b6c1ee3421</td>\n      <td>FixationCollider</td>\n      <td>1.025194e+06</td>\n      <td>-0.088201</td>\n      <td>1.285172</td>\n      <td>9.278578</td>\n      <td>1.025194e+06</td>\n      <td>0.062661</td>\n      <td>2.619986</td>\n      <td>0.304923</td>\n      <td>...</td>\n      <td>0.063073</td>\n      <td>2.622200</td>\n      <td>0.305361</td>\n      <td>-0.016753</td>\n      <td>-0.148067</td>\n      <td>0.993726</td>\n      <td>0.0</td>\n      <td>0.0</td>\n      <td>1.0</td>\n      <td>1.025194e+06</td>\n    </tr>\n  </tbody>\n</table>\n<p>268052 rows × 25 columns</p>\n</div>"
     },
     "execution_count": 149,
     "metadata": {},
     "output_type": "execute_result"
    }
   ],
   "source": [
    "# inspect the eye_tracking data\n",
    "df_eye = get_streams_data(streams, streams_keep=['HitObjectNames', 'HitPositionOnObjects','HeadTracking','EyeTrackingWorld','EyeTrackingLocal'])\n",
    "df_eye"
   ],
   "metadata": {
    "collapsed": false,
    "pycharm": {
     "name": "#%%\n"
    }
   }
  },
  {
   "cell_type": "code",
   "execution_count": 151,
   "outputs": [
    {
     "data": {
      "text/plain": "UID                                 0\nHON_HitObjectNames                  0\ntime_stamps_HitObjectNames          0\nHPOOX_HitPositionOnObjects          0\nHPOOY_HitPositionOnObjects          0\nHPOOZ_HitPositionOnObjects          0\ntime_stamps_HitPositionOnObjects    0\nHToriginX_HeadTracking              0\nHToriginY_HeadTracking              0\nHToriginZ_HeadTracking              0\nHTdirectionX_HeadTracking           0\nHTdirectionY_HeadTracking           0\nHTdirectionZ_HeadTracking           0\ntime_stamps_HeadTracking            0\nETWTime_EyeTrackingWorld            0\nETWoriginX_EyeTrackingWorld         0\nETWoriginY_EyeTrackingWorld         0\nETWoriginZ_EyeTrackingWorld         0\nETWdirectionX_EyeTrackingWorld      0\nETWdirectionY_EyeTrackingWorld      0\nETWdirectionZ_EyeTrackingWorld      0\nleftBlink_EyeTrackingWorld          0\nrightBlink_EyeTrackingWorld         0\nvalid_EyeTrackingWorld              0\ntime_stamps_EyeTrackingWorld        0\ndtype: int64"
     },
     "execution_count": 151,
     "metadata": {},
     "output_type": "execute_result"
    }
   ],
   "source": [
    "# df_eye.describe()\n",
    "df_eye.isnull().sum()"
   ],
   "metadata": {
    "collapsed": false,
    "pycharm": {
     "name": "#%%\n"
    }
   }
  },
  {
   "cell_type": "markdown",
   "source": [
    "## 3. Create triggers\n",
    "- For each initial time an image was shown, we want to keep the type of object it was (i.e., face, object, body) as a separate column.\n",
    "- Additional triggers contain the rotation and distance the specific object was with respect to the player at the time the free-viewing walk took place.\n",
    "- __Note:__ We want the triggers only once to denote the initial time the image was shown."
   ],
   "metadata": {
    "collapsed": false
   }
  },
  {
   "cell_type": "code",
   "execution_count": 318,
   "outputs": [],
   "source": [
    "def create_triggers(df):\n",
    "    # save the names of the image category\n",
    "    df['ob_names'] =  df.apply(lambda x: x[\"imageName_ImageInfo\"].split(\".\")[5] if len(x[\"imageName_ImageInfo\"].split(\".\")) > 7 else '', axis=1)\n",
    "    # creating the triggers for the first time an image is shown\n",
    "    # check when there is a change from image, canvas, fixationCross\n",
    "    df['shift'] = df['imageName_ImageInfo'].shift(1) != df['imageName_ImageInfo']\n",
    "    df['time_onset'] = df.apply(lambda x: x['time_stamps_Visual'] if len(x[\"imageName_ImageInfo\"].split(\".\")) > 7 and x['shift'] else '', axis=1)\n",
    "    df['triggers'] = df.apply(lambda x: 'face' if x['shift'] and 'face' in x['imageName_ImageInfo'].lower()\n",
    "                                               else ('body' if x['shift'] and 'npc' in x['imageName_ImageInfo'].lower()\n",
    "                                               else ('object' if x['shift'] and 'rotation' in x['imageName_ImageInfo'].lower() and 'face|npc' not in x['imageName_ImageInfo'].lower()\n",
    "                                               else '')), axis=1)\n",
    "    # define the triggers for rotation and distance\n",
    "    df['rotation'] = df.apply(lambda x: 'r_' + x[\"imageName_ImageInfo\"].split(\".\")[7] if len(x[\"imageName_ImageInfo\"].split(\".\")) > 7 and x['shift'] else '', axis=1)\n",
    "    df['distance'] = df.apply(lambda x: 'd_' + x[\"imageName_ImageInfo\"].split(\".\")[9] if len(x[\"imageName_ImageInfo\"].split(\".\")) > 7 and x['shift'] else '', axis=1)\n",
    "    df['block'] = df.apply(lambda x: 'b_' + str(x[\"blockNumber_ImageInfo\"]) if len(x[\"imageName_ImageInfo\"].split(\".\")) > 7 and x['shift'] else '', axis=1)\n",
    "    df_sel = df[['time_onset','triggers','rotation','distance','block']]\n",
    "    df_triggers = df_sel[df_sel['time_onset'] != '']\n",
    "    uid = df['uid'][0]\n",
    "    return df, df_triggers, uid #, total_images"
   ],
   "metadata": {
    "collapsed": false,
    "pycharm": {
     "name": "#%%\n"
    }
   }
  },
  {
   "cell_type": "code",
   "execution_count": 319,
   "outputs": [
    {
     "data": {
      "text/plain": "            time_onset triggers rotation distance block\n1726    1021276.707802     body    r_117      d_5   b_0\n1873     1021278.34043   object     r_49      d_7   b_0\n2019    1021279.961899     face     r_29      d_7   b_0\n2189    1021281.861035     face     r_72      d_3   b_0\n2345    1021283.593613     face     r_14      d_3   b_0\n...                ...      ...      ...      ...   ...\n344807  1025186.804562     body    r_109      d_9   b_3\n344967  1025188.581551     body     r_54      d_5   b_3\n345148  1025190.591745     body      r_5      d_1   b_3\n345294  1025192.213329     body     r_54      d_5   b_3\n345442  1025193.856969     face     r_94      d_1   b_3\n\n[1680 rows x 5 columns]",
      "text/html": "<div>\n<style scoped>\n    .dataframe tbody tr th:only-of-type {\n        vertical-align: middle;\n    }\n\n    .dataframe tbody tr th {\n        vertical-align: top;\n    }\n\n    .dataframe thead th {\n        text-align: right;\n    }\n</style>\n<table border=\"1\" class=\"dataframe\">\n  <thead>\n    <tr style=\"text-align: right;\">\n      <th></th>\n      <th>time_onset</th>\n      <th>triggers</th>\n      <th>rotation</th>\n      <th>distance</th>\n      <th>block</th>\n    </tr>\n  </thead>\n  <tbody>\n    <tr>\n      <th>1726</th>\n      <td>1021276.707802</td>\n      <td>body</td>\n      <td>r_117</td>\n      <td>d_5</td>\n      <td>b_0</td>\n    </tr>\n    <tr>\n      <th>1873</th>\n      <td>1021278.34043</td>\n      <td>object</td>\n      <td>r_49</td>\n      <td>d_7</td>\n      <td>b_0</td>\n    </tr>\n    <tr>\n      <th>2019</th>\n      <td>1021279.961899</td>\n      <td>face</td>\n      <td>r_29</td>\n      <td>d_7</td>\n      <td>b_0</td>\n    </tr>\n    <tr>\n      <th>2189</th>\n      <td>1021281.861035</td>\n      <td>face</td>\n      <td>r_72</td>\n      <td>d_3</td>\n      <td>b_0</td>\n    </tr>\n    <tr>\n      <th>2345</th>\n      <td>1021283.593613</td>\n      <td>face</td>\n      <td>r_14</td>\n      <td>d_3</td>\n      <td>b_0</td>\n    </tr>\n    <tr>\n      <th>...</th>\n      <td>...</td>\n      <td>...</td>\n      <td>...</td>\n      <td>...</td>\n      <td>...</td>\n    </tr>\n    <tr>\n      <th>344807</th>\n      <td>1025186.804562</td>\n      <td>body</td>\n      <td>r_109</td>\n      <td>d_9</td>\n      <td>b_3</td>\n    </tr>\n    <tr>\n      <th>344967</th>\n      <td>1025188.581551</td>\n      <td>body</td>\n      <td>r_54</td>\n      <td>d_5</td>\n      <td>b_3</td>\n    </tr>\n    <tr>\n      <th>345148</th>\n      <td>1025190.591745</td>\n      <td>body</td>\n      <td>r_5</td>\n      <td>d_1</td>\n      <td>b_3</td>\n    </tr>\n    <tr>\n      <th>345294</th>\n      <td>1025192.213329</td>\n      <td>body</td>\n      <td>r_54</td>\n      <td>d_5</td>\n      <td>b_3</td>\n    </tr>\n    <tr>\n      <th>345442</th>\n      <td>1025193.856969</td>\n      <td>face</td>\n      <td>r_94</td>\n      <td>d_1</td>\n      <td>b_3</td>\n    </tr>\n  </tbody>\n</table>\n<p>1680 rows × 5 columns</p>\n</div>"
     },
     "execution_count": 319,
     "metadata": {},
     "output_type": "execute_result"
    }
   ],
   "source": [
    "df, df_triggers, uid = create_triggers(df)\n",
    "df_triggers"
   ],
   "metadata": {
    "collapsed": false,
    "pycharm": {
     "name": "#%%\n"
    }
   }
  },
  {
   "cell_type": "code",
   "execution_count": 330,
   "outputs": [
    {
     "data": {
      "text/plain": "Processed:            0% 0/5 in 0.03s",
      "application/vnd.jupyter.widget-view+json": {
       "version_major": 2,
       "version_minor": 0,
       "model_id": "8bc70bae97b64c8c842298b752dfb881"
      }
     },
     "metadata": {},
     "output_type": "display_data"
    },
    {
     "data": {
      "text/plain": ":            0% 0/5 in 0.02s",
      "application/vnd.jupyter.widget-view+json": {
       "version_major": 2,
       "version_minor": 0,
       "model_id": "9f055ab2a8cb4f2b84e95f60ad9129ae"
      }
     },
     "metadata": {},
     "output_type": "display_data"
    },
    {
     "data": {
      "text/plain": ":            0% 0/5 in 0.01s",
      "application/vnd.jupyter.widget-view+json": {
       "version_major": 2,
       "version_minor": 0,
       "model_id": "0c483e3051334d82b8e4b144c2468bb3"
      }
     },
     "metadata": {},
     "output_type": "display_data"
    }
   ],
   "source": [
    "# path to save .csv with total images per block\n",
    "total_img_file = os.path.join(t_path, 'total_unique_images_per_user.csv')\n",
    "\n",
    "# progress bar format definitons\n",
    "m_format = \"{desc}:{bar}{percentage:3.0f}% {n_fmt}/{total_fmt} in {elapsed_s:.2f}s\"\n",
    "s_format = (\"{desc}:{bar}{percentage:3.0f}% {n_fmt}/{total_fmt}{postfix} in {elapsed_s:.2f}s\")\n",
    "# main progress bar\n",
    "main_bar = tqdm(\n",
    "    os.listdir(r_path),\n",
    "    desc=\"Processed\",\n",
    "    dynamic_ncols=True,\n",
    "    mininterval=0.001,\n",
    "    bar_format=m_format,\n",
    ")\n",
    "# for k in main_bar:\n",
    "for file in main_bar:\n",
    "\n",
    "    if file.lower().endswith('.xdf'):\n",
    "        pbar = tqdm(\n",
    "        range(5),\n",
    "        mininterval=0.001,\n",
    "        maxinterval=1,\n",
    "        bar_format=s_format,)\n",
    "\n",
    "        pbar.set_postfix(file=file)\n",
    "        #### 1. Load the XDF file ####\n",
    "        postfix = {\"step\": \"1. Load the XDF file\", \"file\": file}\n",
    "        pbar.set_postfix(postfix)\n",
    "\n",
    "        streams, _ = pyxdf.load_xdf(os.path.join(r_path, file))\n",
    "        pbar.update(1)\n",
    "        #### 2. Store selected stream info (only useful info)\n",
    "        postfix = {\"step\": \"2. Store selected streams info\", \"file\": file}\n",
    "        pbar.set_postfix(postfix)\n",
    "        # store trigger-related stream data into df\n",
    "        df = get_streams_data(streams, streams_keep=['ImageInfo','Visual'])\n",
    "        # save eye_tracking related data\n",
    "        df_eye = get_streams_data(streams, streams_keep=['HitObjectNames', 'HitPositionOnObjects','HeadTracking','EyeTrackingWorld','EyeTrackingLocal'])\n",
    "        pbar.update(1)\n",
    "\n",
    "        #### 3. Create triggers\n",
    "        postfix = {\"step\": \"3. Creating triggers from ImageInfo\", \"file\": file}\n",
    "        pbar.set_postfix(postfix)\n",
    "        df_img, df_triggers, uid = create_triggers(df)\n",
    "        pbar.update(1)\n",
    "\n",
    "        #### 4. Save total number of images per block, per uid\n",
    "        postfix = {\"step\": \"4 Saving total number of images per block, per uid\", \"file\": file}\n",
    "        pbar.set_postfix(postfix)\n",
    "        img_unique = df_img[~df_img['imageName_ImageInfo'].str.contains('fixation|grayCan|Message')]\n",
    "        total_images = img_unique.groupby('blockNumber_ImageInfo')['imageName_ImageInfo'].nunique().reset_index().rename(columns={\"blockNumber_ImageInfo\": \"block_number\", \"imageName_ImageInfo\": \"total_img\"})\n",
    "\n",
    "        # save total images for all participants\n",
    "        if not os.path.isdir(t_path):\n",
    "            os.mkdir(t_path)\n",
    "        if not os.path.isdir(e_path):\n",
    "            os.mkdir(e_path)\n",
    "\n",
    "        total_images['uid'] = uid # pd.DataFrame(data={'uid':[uid], 'total_unique_img':[total_images]})\n",
    "        if os.path.exists(total_img_file):\n",
    "            df_total_unique_img = pd.read_csv(total_img_file)\n",
    "            df_total_unique_img = pd.concat([df_total_unique_img,total_images], ignore_index=True)\n",
    "            df_total_unique_img.reset_index(drop=True, inplace=True)\n",
    "            df_total_unique_img.drop_duplicates(inplace=True)\n",
    "        else:\n",
    "            df_total_unique_img = total_images\n",
    "        df_total_unique_img.to_csv(total_img_file, index=False)\n",
    "        pbar.update(1)\n",
    "        #### 5. Saving triggers and et files\n",
    "        postfix = {\"step\": \"5. Saving triggers and et files\", \"file\": file}\n",
    "        pbar.set_postfix(postfix)\n",
    "        df_triggers.to_csv(os.path.join(t_path, 'trigger_file_' + uid +'.csv'), index=False)\n",
    "        df_eye.to_csv(os.path.join(e_path, 'et_' + uid + '.csv'), index=False)\n",
    "        pbar.update(1)\n",
    "        pbar.set_postfix(file=file)\n",
    "        pbar.close()"
   ],
   "metadata": {
    "collapsed": false,
    "pycharm": {
     "name": "#%%\n"
    }
   }
  },
  {
   "cell_type": "code",
   "execution_count": null,
   "outputs": [],
   "source": [],
   "metadata": {
    "collapsed": false,
    "pycharm": {
     "name": "#%%\n"
    }
   }
  }
 ],
 "metadata": {
  "kernelspec": {
   "display_name": "Python 3",
   "language": "python",
   "name": "python3"
  },
  "language_info": {
   "codemirror_mode": {
    "name": "ipython",
    "version": 2
   },
   "file_extension": ".py",
   "mimetype": "text/x-python",
   "name": "python",
   "nbconvert_exporter": "python",
   "pygments_lexer": "ipython2",
   "version": "2.7.6"
  }
 },
 "nbformat": 4,
 "nbformat_minor": 0
}