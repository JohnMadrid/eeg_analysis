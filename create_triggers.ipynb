{
 "cells": [
  {
   "cell_type": "markdown",
   "source": [
    "# Trigger files\n",
    "This notebook is intended to create the trigger files for the eeg data analysis."
   ],
   "metadata": {
    "collapsed": false
   }
  },
  {
   "cell_type": "code",
   "execution_count": 1,
   "metadata": {
    "collapsed": true
   },
   "outputs": [],
   "source": [
    "import copy\n",
    "import datetime\n",
    "import itertools\n",
    "import os\n",
    "\n",
    "import matplotlib.pyplot as plt\n",
    "import numpy as np\n",
    "from IPython.display import display\n",
    "from matplotlib.ticker import FormatStrFormatter\n",
    "\n",
    "import pandas as pd\n",
    "import pyxdf\n",
    "import seaborn as sns\n",
    "from scipy.signal import find_peaks\n",
    "from tqdm.notebook import tqdm"
   ]
  },
  {
   "cell_type": "code",
   "execution_count": null,
   "outputs": [],
   "source": [
    "files = os.listdir(\"data\")  # get all files from the folder \"data\"\n",
    "files.sort()  # sort them alphabetically\n",
    "recordings = {}\n",
    "excluded = []\n",
    "# for file in files:\n",
    "#     # filter hidden/config files and folders\n",
    "#     if not file.endswith(\".xdf\"):\n",
    "#         files.remove(file)  # remove hidden/config file\n",
    "#         excluded.append(file)  # add into excluded\n",
    "#\n",
    "#\n",
    "# # short tests were excluded as they were too short and had strange statistics\n",
    "# for e in excluded:\n",
    "#     print(f\"Excluded from '{e}/': {os.listdir(f'lsl_coroutines_data/{e}')}\")\n",
    "\n",
    "for i, file in enumerate(files):  # store and display all files\n",
    "    created = os.path.getmtime(f\"data/{file}\")  # creation timestamp\n",
    "    created = datetime.datetime.fromtimestamp(created)  # translate as datetime\n",
    "    created = created.strftime(\"%d.%m.%Y %H:%M\")  # arrange it\n",
    "    recordings[i] = {\"file\": file, \"created\": created}\n",
    "\n",
    "files = [f.split(\".\")[0] for f in files]\n",
    "print(\"Included:\")\n",
    "display(recordings)"
   ],
   "metadata": {
    "collapsed": false,
    "pycharm": {
     "name": "#%%\n"
    }
   }
  }
 ],
 "metadata": {
  "kernelspec": {
   "display_name": "Python 3",
   "language": "python",
   "name": "python3"
  },
  "language_info": {
   "codemirror_mode": {
    "name": "ipython",
    "version": 2
   },
   "file_extension": ".py",
   "mimetype": "text/x-python",
   "name": "python",
   "nbconvert_exporter": "python",
   "pygments_lexer": "ipython2",
   "version": "2.7.6"
  }
 },
 "nbformat": 4,
 "nbformat_minor": 0
}